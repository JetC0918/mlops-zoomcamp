{
 "cells": [
  {
   "cell_type": "markdown",
   "id": "ed64306a-eb81-4f3e-8708-f3aa1ff567f2",
   "metadata": {},
   "source": [
    "## Q1. Install MLflow\n",
    "\r\n",
    "To get started with MLflow you'll need to install the MLflow Python package.\r\n",
    "\r\n",
    "For this we recommend creating a separate Python environment, for example, you can use conda environments, and then install the package there with pip or conda.\r\n",
    "\r\n",
    "Once you installed the package, run the command mlflow --version and check the output.\r\n",
    "\r\n",
    "What's the version that you have?"
   ]
  },
  {
   "cell_type": "code",
   "execution_count": 1,
   "id": "7a2c6892-1a5c-435f-9f50-e868550e4392",
   "metadata": {},
   "outputs": [
    {
     "name": "stdout",
     "output_type": "stream",
     "text": [
      "mlflow, version 2.13.0\n"
     ]
    },
    {
     "name": "stderr",
     "output_type": "stream",
     "text": [
      "C:\\Users\\crab\\AppData\\Local\\Programs\\Python\\Python311\\Lib\\site-packages\\pydantic\\_internal\\_config.py:321: UserWarning: Valid config keys have changed in V2:\n",
      "* 'schema_extra' has been renamed to 'json_schema_extra'\n",
      "  warnings.warn(message, UserWarning)\n"
     ]
    }
   ],
   "source": [
    "!mlflow --version"
   ]
  },
  {
   "cell_type": "markdown",
   "id": "8651b1e6-aa09-42e8-86e1-a021e6c4cd08",
   "metadata": {},
   "source": [
    "## Q2. Download and preprocess the data\n",
    "We'll use the Green Taxi Trip Records dataset to predict the duration of each trip.\n",
    "\n",
    "Download the data for January, February and March 2023 in parquet format from here.\n",
    "\n",
    "Use the script preprocess_data.py located in the folder homework to preprocess the data.\n",
    "\n",
    "The script will:\n",
    "\n",
    "- load the data from the folder <TAXI_DATA_FOLDER> (the folder where you have downloaded the data),\n",
    "- fit a DictVectorizer on the training set (January 2023 data),\n",
    "- save the preprocessed datasets and the DictVectorizer to disk.\n",
    "Your task is to download the datasets and then execute this command:\n",
    "\n",
    "```python preprocess_data.py --raw_data_path <TAXI_DATA_FOLDER> --dest_path ./output```\n",
    "\n",
    "Tip: go to 02-experiment-tracking/homework/ folder before executing the command and change the value of <TAXI_DATA_FOLDER> to the location where you saved the data.\n",
    "\n",
    "How many files were saved to OUTPUT_FOLDER?"
   ]
  },
  {
   "cell_type": "code",
   "execution_count": 6,
   "id": "5c6d05cb-da18-4de7-9468-6c7c184c2fb5",
   "metadata": {},
   "outputs": [
    {
     "name": "stderr",
     "output_type": "stream",
     "text": [
      "--2024-05-24 23:17:09--  https://d37ci6vzurychx.cloudfront.net/trip-data/green_tripdata_2023-01.parquet\n",
      "Resolving d37ci6vzurychx.cloudfront.net (d37ci6vzurychx.cloudfront.net)... 18.239.38.147, 18.239.38.83, 18.239.38.163, ...\n",
      "Connecting to d37ci6vzurychx.cloudfront.net (d37ci6vzurychx.cloudfront.net)|18.239.38.147|:443... connected.\n",
      "HTTP request sent, awaiting response... 200 OK\n",
      "Length: 1427002 (1.4M) [binary/octet-stream]\n",
      "Saving to: './data/green_tripdata_2023-01.parquet.1'\n",
      "\n",
      "     0K .......... .......... .......... .......... ..........  3%  191K 7s\n",
      "    50K .......... .......... .......... .......... ..........  7%  473K 5s\n",
      "   100K .......... .......... .......... .......... .......... 10%  359K 4s\n",
      "   150K .......... .......... .......... .......... .......... 14%  603K 4s\n",
      "   200K .......... .......... .......... .......... .......... 17%  780K 3s\n",
      "   250K .......... .......... .......... .......... .......... 21% 1.07M 3s\n",
      "   300K .......... .......... .......... .......... .......... 25%  869K 2s\n",
      "   350K .......... .......... .......... .......... .......... 28% 1.06M 2s\n",
      "   400K .......... .......... .......... .......... .......... 32% 1.42M 2s\n",
      "   450K .......... .......... .......... .......... .......... 35% 1.43M 2s\n",
      "   500K .......... .......... .......... .......... .......... 39% 1.05M 1s\n",
      "   550K .......... .......... .......... .......... .......... 43% 1.02M 1s\n",
      "   600K .......... .......... .......... .......... .......... 46% 1.25M 1s\n",
      "   650K .......... .......... .......... .......... .......... 50% 1.30M 1s\n",
      "   700K .......... .......... .......... .......... .......... 53% 1.11M 1s\n",
      "   750K .......... .......... .......... .......... .......... 57% 1.07M 1s\n",
      "   800K .......... .......... .......... .......... .......... 60% 1002K 1s\n",
      "   850K .......... .......... .......... .......... .......... 64% 1.72M 1s\n",
      "   900K .......... .......... .......... .......... .......... 68% 3.19M 1s\n",
      "   950K .......... .......... .......... .......... .......... 71% 3.78M 0s\n",
      "  1000K .......... .......... .......... .......... .......... 75% 3.00M 0s\n",
      "  1050K .......... .......... .......... .......... .......... 78% 4.12M 0s\n",
      "  1100K .......... .......... .......... .......... .......... 82% 2.57M 0s\n",
      "  1150K .......... .......... .......... .......... .......... 86% 2.23M 0s\n",
      "  1200K .......... .......... .......... .......... .......... 89% 2.82M 0s\n",
      "  1250K .......... .......... .......... .......... .......... 93% 17.3M 0s\n",
      "  1300K .......... .......... .......... .......... .......... 96% 2.35M 0s\n",
      "  1350K .......... .......... .......... .......... ...       100% 14.6M=1.4s\n",
      "\n",
      "2024-05-24 23:17:11 (1.01 MB/s) - './data/green_tripdata_2023-01.parquet.1' saved [1427002/1427002]\n",
      "\n",
      "--2024-05-24 23:17:11--  https://d37ci6vzurychx.cloudfront.net/trip-data/green_tripdata_2023-02.parquet\n",
      "Resolving d37ci6vzurychx.cloudfront.net (d37ci6vzurychx.cloudfront.net)... 18.239.38.147, 18.239.38.83, 18.239.38.163, ...\n",
      "Connecting to d37ci6vzurychx.cloudfront.net (d37ci6vzurychx.cloudfront.net)|18.239.38.147|:443... connected.\n",
      "HTTP request sent, awaiting response... 200 OK\n",
      "Length: 1533740 (1.5M) [binary/octet-stream]\n",
      "Saving to: './data/green_tripdata_2023-02.parquet'\n",
      "\n",
      "     0K .......... .......... .......... .......... ..........  3%  191K 8s\n",
      "    50K .......... .......... .......... .......... ..........  6%  504K 5s\n",
      "   100K .......... .......... .......... .......... .......... 10%  332K 5s\n",
      "   150K .......... .......... .......... .......... .......... 13%  581K 4s\n",
      "   200K .......... .......... .......... .......... .......... 16%  897K 3s\n",
      "   250K .......... .......... .......... .......... .......... 20%  995K 3s\n",
      "   300K .......... .......... .......... .......... .......... 23% 1.10M 2s\n",
      "   350K .......... .......... .......... .......... .......... 26%  957K 2s\n",
      "   400K .......... .......... .......... .......... .......... 30% 1.22M 2s\n",
      "   450K .......... .......... .......... .......... .......... 33% 1.40M 2s\n",
      "   500K .......... .......... .......... .......... .......... 36% 1.11M 2s\n",
      "   550K .......... .......... .......... .......... .......... 40%  914K 1s\n",
      "   600K .......... .......... .......... .......... .......... 43% 1.12M 1s\n",
      "   650K .......... .......... .......... .......... .......... 46% 1.44M 1s\n",
      "   700K .......... .......... .......... .......... .......... 50% 1.07M 1s\n",
      "   750K .......... .......... .......... .......... .......... 53% 1.24M 1s\n",
      "   800K .......... .......... .......... .......... .......... 56%  952K 1s\n",
      "   850K .......... .......... .......... .......... .......... 60% 2.83M 1s\n",
      "   900K .......... .......... .......... .......... .......... 63% 4.23M 1s\n",
      "   950K .......... .......... .......... .......... .......... 66% 3.03M 1s\n",
      "  1000K .......... .......... .......... .......... .......... 70% 2.23M 1s\n",
      "  1050K .......... .......... .......... .......... .......... 73% 5.74M 0s\n",
      "  1100K .......... .......... .......... .......... .......... 76% 3.37M 0s\n",
      "  1150K .......... .......... .......... .......... .......... 80% 3.40M 0s\n",
      "  1200K .......... .......... .......... .......... .......... 83% 2.56M 0s\n",
      "  1250K .......... .......... .......... .......... .......... 86% 3.56M 0s\n",
      "  1300K .......... .......... .......... .......... .......... 90% 3.53M 0s\n",
      "  1350K .......... .......... .......... .......... .......... 93% 3.43M 0s\n",
      "  1400K .......... .......... .......... .......... .......... 96% 3.23M 0s\n",
      "  1450K .......... .......... .......... .......... .......   100% 3.86M=1.4s\n",
      "\n",
      "2024-05-24 23:17:14 (1.06 MB/s) - './data/green_tripdata_2023-02.parquet' saved [1533740/1533740]\n",
      "\n",
      "--2024-05-24 23:17:14--  https://d37ci6vzurychx.cloudfront.net/trip-data/green_tripdata_2023-03.parquet\n",
      "Resolving d37ci6vzurychx.cloudfront.net (d37ci6vzurychx.cloudfront.net)... 18.239.38.147, 18.239.38.83, 18.239.38.163, ...\n",
      "Connecting to d37ci6vzurychx.cloudfront.net (d37ci6vzurychx.cloudfront.net)|18.239.38.147|:443... connected.\n",
      "HTTP request sent, awaiting response... 200 OK\n",
      "Length: 1730999 (1.7M) [binary/octet-stream]\n",
      "Saving to: './data/green_tripdata_2023-03.parquet'\n",
      "\n",
      "     0K .......... .......... .......... .......... ..........  2%  198K 8s\n",
      "    50K .......... .......... .......... .......... ..........  5%  444K 6s\n",
      "   100K .......... .......... .......... .......... ..........  8%  343K 5s\n",
      "   150K .......... .......... .......... .......... .......... 11%  647K 4s\n",
      "   200K .......... .......... .......... .......... .......... 14%  778K 4s\n",
      "   250K .......... .......... .......... .......... .......... 17% 1.13M 3s\n",
      "   300K .......... .......... .......... .......... .......... 20%  874K 3s\n",
      "   350K .......... .......... .......... .......... .......... 23% 1.39M 3s\n",
      "   400K .......... .......... .......... .......... .......... 26% 1.06M 2s\n",
      "   450K .......... .......... .......... .......... .......... 29% 1.30M 2s\n",
      "   500K .......... .......... .......... .......... .......... 32%  996K 2s\n",
      "   550K .......... .......... .......... .......... .......... 35% 1.01M 2s\n",
      "   600K .......... .......... .......... .......... .......... 38% 1.49M 2s\n",
      "   650K .......... .......... .......... .......... .......... 41% 1.05M 1s\n",
      "   700K .......... .......... .......... .......... .......... 44% 1.48M 1s\n",
      "   750K .......... .......... .......... .......... .......... 47% 1.20M 1s\n",
      "   800K .......... .......... .......... .......... .......... 50% 1.11M 1s\n",
      "   850K .......... .......... .......... .......... .......... 53% 1.31M 1s\n",
      "   900K .......... .......... .......... .......... .......... 56% 2.10M 1s\n",
      "   950K .......... .......... .......... .......... .......... 59% 4.65M 1s\n",
      "  1000K .......... .......... .......... .......... .......... 62% 4.02M 1s\n",
      "  1050K .......... .......... .......... .......... .......... 65% 2.21M 1s\n",
      "  1100K .......... .......... .......... .......... .......... 68% 8.11M 1s\n",
      "  1150K .......... .......... .......... .......... .......... 70% 3.00M 1s\n",
      "  1200K .......... .......... .......... .......... .......... 73% 2.09M 0s\n",
      "  1250K .......... .......... .......... .......... .......... 76% 4.95M 0s\n",
      "  1300K .......... .......... .......... .......... .......... 79% 3.67M 0s\n",
      "  1350K .......... .......... .......... .......... .......... 82% 3.39M 0s\n",
      "  1400K .......... .......... .......... .......... .......... 85% 3.75M 0s\n",
      "  1450K .......... .......... .......... .......... .......... 88% 2.67M 0s\n",
      "  1500K .......... .......... .......... .......... .......... 91% 4.34M 0s\n",
      "  1550K .......... .......... .......... .......... .......... 94% 3.73M 0s\n",
      "  1600K .......... .......... .......... .......... .......... 97% 2.83M 0s\n",
      "  1650K .......... .......... .......... ..........           100% 4.15M=1.4s\n",
      "\n",
      "2024-05-24 23:17:16 (1.15 MB/s) - './data/green_tripdata_2023-03.parquet' saved [1730999/1730999]\n",
      "\n"
     ]
    }
   ],
   "source": [
    "# Get the dataset\n",
    "\n",
    "!wget https://d37ci6vzurychx.cloudfront.net/trip-data/green_tripdata_2023-01.parquet -P ./data\n",
    "!wget https://d37ci6vzurychx.cloudfront.net/trip-data/green_tripdata_2023-02.parquet -P ./data\n",
    "!wget https://d37ci6vzurychx.cloudfront.net/trip-data/green_tripdata_2023-03.parquet -P ./data"
   ]
  },
  {
   "cell_type": "code",
   "execution_count": 7,
   "id": "3102b2e3-7773-46ba-b374-fc6fbc16ad2b",
   "metadata": {},
   "outputs": [],
   "source": [
    "!python preprocess_data.py --raw_data_path ./data --dest_path ./output"
   ]
  },
  {
   "cell_type": "code",
   "execution_count": 9,
   "id": "8726fd32-a069-49a2-baba-11fd6e7b6f69",
   "metadata": {},
   "outputs": [
    {
     "data": {
      "text/plain": [
       "['dv.pkl', 'test.pkl', 'train.pkl', 'val.pkl']"
      ]
     },
     "execution_count": 9,
     "metadata": {},
     "output_type": "execute_result"
    }
   ],
   "source": [
    "import os\n",
    "os.listdir(\"./output\")"
   ]
  },
  {
   "cell_type": "markdown",
   "id": "2cefc68d-f9d5-48ce-bab0-28cea59b50ed",
   "metadata": {},
   "source": [
    "**4 Files** in output folder"
   ]
  },
  {
   "cell_type": "markdown",
   "id": "d36b2c92-7826-4f33-9c84-b0466ae50eef",
   "metadata": {},
   "source": [
    "## Q3. Train a model with autolog\n",
    "We will train a RandomForestRegressor (from Scikit-Learn) on the taxi dataset.\n",
    "\n",
    "We have prepared the training script train.py for this exercise, which can be also found in the folder homework.\n",
    "\n",
    "The script will:\n",
    "\n",
    "- load the datasets produced by the previous step,\n",
    "- train the model on the training set,\n",
    "- calculate the RMSE score on the validation set.\n",
    "Your task is to modify the script to enable autologging with MLflow, execute the script and then launch the MLflow UI to check that the experiment run was properly tracked.\n",
    "\n",
    "Tip 1: don't forget to wrap the training code with a with mlflow.start_run(): statement as we showed in the videos.\n",
    "\n",
    "Tip 2: don't modify the hyperparameters of the model to make sure that the training will finish quickly."
   ]
  },
  {
   "cell_type": "code",
   "execution_count": 11,
   "id": "800e1a2e-955d-418c-9813-02e960c30d15",
   "metadata": {},
   "outputs": [
    {
     "name": "stderr",
     "output_type": "stream",
     "text": [
      "2024/05/24 23:19:53 WARNING mlflow.sklearn: Failed to log training dataset information to MLflow Tracking. Reason: 'numpy.ndarray' object has no attribute 'toarray'\n",
      "2024/05/24 23:20:11 WARNING mlflow.utils.autologging_utils: MLflow autologging encountered a warning: \"C:\\Users\\crab\\AppData\\Local\\Programs\\Python\\Python311\\Lib\\site-packages\\_distutils_hack\\__init__.py:33: UserWarning: Setuptools is replacing distutils.\"\n",
      "C:\\Users\\crab\\AppData\\Local\\Programs\\Python\\Python311\\Lib\\site-packages\\sklearn\\metrics\\_regression.py:483: FutureWarning: 'squared' is deprecated in version 1.4 and will be removed in 1.6. To calculate the root mean squared error, use the function'root_mean_squared_error'.\n",
      "  warnings.warn(\n"
     ]
    }
   ],
   "source": [
    "!python train.py"
   ]
  },
  {
   "cell_type": "code",
   "execution_count": 15,
   "id": "eafa8490-d8c6-4ac2-a527-3c0d0618bfb5",
   "metadata": {},
   "outputs": [
    {
     "name": "stderr",
     "output_type": "stream",
     "text": [
      "INFO  [alembic.runtime.migration] Context impl SQLiteImpl.\n",
      "INFO  [alembic.runtime.migration] Will assume non-transactional DDL.\n"
     ]
    }
   ],
   "source": [
    "from mlflow.tracking import MlflowClient\n",
    "\n",
    "TRACKING_URI = \"sqlite:///mlflow.db\"\n",
    "\n",
    "client = MlflowClient(tracking_uri=TRACKING_URI)"
   ]
  },
  {
   "cell_type": "code",
   "execution_count": 16,
   "id": "ea65b2f4-7f88-4bf6-982a-98ef2a69dd63",
   "metadata": {},
   "outputs": [
    {
     "data": {
      "text/plain": [
       "[<Experiment: artifact_location='mlflow-artifacts:/3', creation_time=1716563281836, experiment_id='3', last_update_time=1716563281836, lifecycle_stage='active', name='random-forest-best-models', tags={}>,\n",
       " <Experiment: artifact_location='mlflow-artifacts:/2', creation_time=1716561755926, experiment_id='2', last_update_time=1716561755926, lifecycle_stage='active', name='random-forest-hyperopt', tags={}>,\n",
       " <Experiment: artifact_location='file:///C:/Users/crab/py2/mlops-zoomcamp/cohorts/2024/02-experiment-tracking/homework/mlruns/1', creation_time=1716561207595, experiment_id='1', last_update_time=1716561207595, lifecycle_stage='active', name='homework2', tags={}>,\n",
       " <Experiment: artifact_location='file:///C:/Users/crab/py2/mlops-zoomcamp/cohorts/2024/02-experiment-tracking/homework/mlruns/0', creation_time=1716561207590, experiment_id='0', last_update_time=1716561207590, lifecycle_stage='active', name='Default', tags={}>]"
      ]
     },
     "execution_count": 16,
     "metadata": {},
     "output_type": "execute_result"
    }
   ],
   "source": [
    "client.search_experiments()\n"
   ]
  },
  {
   "cell_type": "code",
   "execution_count": 47,
   "id": "3bb47bff-f4f3-48c9-ac82-f36040854169",
   "metadata": {},
   "outputs": [
    {
     "data": {
      "text/plain": [
       "[<Run: data=<RunData: metrics={'training_mean_absolute_error': 3.4244701942312354,\n",
       "  'training_mean_squared_error': 27.083054499499358,\n",
       "  'training_r2_score': 0.6673983775155525,\n",
       "  'training_root_mean_squared_error': 5.204138209108148,\n",
       "  'training_score': 0.6673983775155525}, params={'bootstrap': 'True',\n",
       "  'ccp_alpha': '0.0',\n",
       "  'criterion': 'squared_error',\n",
       "  'max_depth': '10',\n",
       "  'max_features': '1.0',\n",
       "  'max_leaf_nodes': 'None',\n",
       "  'max_samples': 'None',\n",
       "  'min_impurity_decrease': '0.0',\n",
       "  'min_samples_leaf': '1',\n",
       "  'min_samples_split': '2',\n",
       "  'min_weight_fraction_leaf': '0.0',\n",
       "  'monotonic_cst': 'None',\n",
       "  'n_estimators': '100',\n",
       "  'n_jobs': 'None',\n",
       "  'oob_score': 'False',\n",
       "  'random_state': '0',\n",
       "  'verbose': '0',\n",
       "  'warm_start': 'False'}, tags={'estimator_class': 'sklearn.ensemble._forest.RandomForestRegressor',\n",
       "  'estimator_name': 'RandomForestRegressor',\n",
       "  'mlflow.log-model.history': '[{\"run_id\": \"50a15d1138c34be6a2fd613a086a2f88\", '\n",
       "                              '\"artifact_path\": \"model\", \"utc_time_created\": '\n",
       "                              '\"2024-05-24 15:20:06.369231\", \"flavors\": '\n",
       "                              '{\"python_function\": {\"model_path\": \"model.pkl\", '\n",
       "                              '\"predict_fn\": \"predict\", \"loader_module\": '\n",
       "                              '\"mlflow.sklearn\", \"python_version\": \"3.11.8\", '\n",
       "                              '\"env\": {\"conda\": \"conda.yaml\", \"virtualenv\": '\n",
       "                              '\"python_env.yaml\"}}, \"sklearn\": '\n",
       "                              '{\"pickled_model\": \"model.pkl\", '\n",
       "                              '\"sklearn_version\": \"1.4.1.post1\", '\n",
       "                              '\"serialization_format\": \"cloudpickle\", \"code\": '\n",
       "                              'null}}, \"model_uuid\": '\n",
       "                              '\"3dbff1d11a4443d0a591f2f97ea69ee8\", '\n",
       "                              '\"mlflow_version\": \"2.13.0\", \"signature\": '\n",
       "                              '{\"inputs\": \"[{\\\\\"type\\\\\": \\\\\"tensor\\\\\", '\n",
       "                              '\\\\\"tensor-spec\\\\\": {\\\\\"dtype\\\\\": \\\\\"float64\\\\\", '\n",
       "                              '\\\\\"shape\\\\\": [-1, 5702]}}]\", \"outputs\": '\n",
       "                              '\"[{\\\\\"type\\\\\": \\\\\"tensor\\\\\", \\\\\"tensor-spec\\\\\": '\n",
       "                              '{\\\\\"dtype\\\\\": \\\\\"float64\\\\\", \\\\\"shape\\\\\": '\n",
       "                              '[-1]}}]\", \"params\": null}, \"model_size_bytes\": '\n",
       "                              '4528759}]',\n",
       "  'mlflow.runName': 'nosy-bass-468',\n",
       "  'mlflow.source.git.commit': 'ff26d1c0c0641534b5a2f27ea1e62cb443f1a7d3',\n",
       "  'mlflow.source.name': 'train.py',\n",
       "  'mlflow.source.type': 'LOCAL',\n",
       "  'mlflow.user': 'crab'}>, info=<RunInfo: artifact_uri='file:///C:/Users/crab/py2/mlops-zoomcamp/cohorts/2024/02-experiment-tracking/homework/mlruns/1/50a15d1138c34be6a2fd613a086a2f88/artifacts', end_time=1716564013685, experiment_id='1', lifecycle_stage='active', run_id='50a15d1138c34be6a2fd613a086a2f88', run_name='nosy-bass-468', run_uuid='50a15d1138c34be6a2fd613a086a2f88', start_time=1716563993319, status='FINISHED', user_id='crab'>, inputs=<RunInputs: dataset_inputs=[<DatasetInput: dataset=<Dataset: digest='7edda543', name='dataset', profile=('{\"features_shape\": [62574, 5702], \"features_size\": 356796948, '\n",
       "  '\"features_nbytes\": 2854375584}'), schema=('{\"mlflow_tensorspec\": {\"features\": \"[{\\\\\"type\\\\\": \\\\\"tensor\\\\\", '\n",
       "  '\\\\\"tensor-spec\\\\\": {\\\\\"dtype\\\\\": \\\\\"float64\\\\\", \\\\\"shape\\\\\": [-1, 5702]}}]\", '\n",
       "  '\"targets\": null}}'), source=('{\"tags\": {\"mlflow.user\": \"crab\", \"mlflow.source.name\": \"train.py\", '\n",
       "  '\"mlflow.source.type\": \"LOCAL\", \"mlflow.source.git.commit\": '\n",
       "  '\"ff26d1c0c0641534b5a2f27ea1e62cb443f1a7d3\"}}'), source_type='code'>, tags=[<InputTag: key='mlflow.data.context', value='eval'>]>]>>,\n",
       " <Run: data=<RunData: metrics={'rmse': 5.370086069268862}, params={'max_depth': '13',\n",
       "  'min_samples_leaf': '4',\n",
       "  'min_samples_split': '7',\n",
       "  'n_estimators': '43',\n",
       "  'random_state': '42'}, tags={'mlflow.runName': 'abundant-finch-697',\n",
       "  'mlflow.source.git.commit': 'ff26d1c0c0641534b5a2f27ea1e62cb443f1a7d3',\n",
       "  'mlflow.source.name': 'hpo.py',\n",
       "  'mlflow.source.type': 'LOCAL',\n",
       "  'mlflow.user': 'crab'}>, info=<RunInfo: artifact_uri='file:///C:/Users/crab/py2/mlops-zoomcamp/cohorts/2024/02-experiment-tracking/homework/mlruns/1/b145525d677144ffb7fb459aa1231eba/artifacts', end_time=1716561764563, experiment_id='1', lifecycle_stage='active', run_id='b145525d677144ffb7fb459aa1231eba', run_name='abundant-finch-697', run_uuid='b145525d677144ffb7fb459aa1231eba', start_time=1716561756579, status='FAILED', user_id='crab'>, inputs=<RunInputs: dataset_inputs=[]>>,\n",
       " <Run: data=<RunData: metrics={'training_mean_absolute_error': 3.4244701942312354,\n",
       "  'training_mean_squared_error': 27.083054499499358,\n",
       "  'training_r2_score': 0.6673983775155525,\n",
       "  'training_root_mean_squared_error': 5.204138209108148,\n",
       "  'training_score': 0.6673983775155525}, params={'bootstrap': 'True',\n",
       "  'ccp_alpha': '0.0',\n",
       "  'criterion': 'squared_error',\n",
       "  'max_depth': '10',\n",
       "  'max_features': '1.0',\n",
       "  'max_leaf_nodes': 'None',\n",
       "  'max_samples': 'None',\n",
       "  'min_impurity_decrease': '0.0',\n",
       "  'min_samples_leaf': '1',\n",
       "  'min_samples_split': '2',\n",
       "  'min_weight_fraction_leaf': '0.0',\n",
       "  'monotonic_cst': 'None',\n",
       "  'n_estimators': '100',\n",
       "  'n_jobs': 'None',\n",
       "  'oob_score': 'False',\n",
       "  'random_state': '0',\n",
       "  'verbose': '0',\n",
       "  'warm_start': 'False'}, tags={'estimator_class': 'sklearn.ensemble._forest.RandomForestRegressor',\n",
       "  'estimator_name': 'RandomForestRegressor',\n",
       "  'mlflow.log-model.history': '[{\"run_id\": \"642077d23ed940df80096696dff66a7d\", '\n",
       "                              '\"artifact_path\": \"model\", \"utc_time_created\": '\n",
       "                              '\"2024-05-24 14:33:41.044415\", \"flavors\": '\n",
       "                              '{\"python_function\": {\"model_path\": \"model.pkl\", '\n",
       "                              '\"predict_fn\": \"predict\", \"loader_module\": '\n",
       "                              '\"mlflow.sklearn\", \"python_version\": \"3.11.8\", '\n",
       "                              '\"env\": {\"conda\": \"conda.yaml\", \"virtualenv\": '\n",
       "                              '\"python_env.yaml\"}}, \"sklearn\": '\n",
       "                              '{\"pickled_model\": \"model.pkl\", '\n",
       "                              '\"sklearn_version\": \"1.4.1.post1\", '\n",
       "                              '\"serialization_format\": \"cloudpickle\", \"code\": '\n",
       "                              'null}}, \"model_uuid\": '\n",
       "                              '\"eb0aa75870154f8880ff3831b0f3bf05\", '\n",
       "                              '\"mlflow_version\": \"2.13.0\", \"signature\": '\n",
       "                              '{\"inputs\": \"[{\\\\\"type\\\\\": \\\\\"tensor\\\\\", '\n",
       "                              '\\\\\"tensor-spec\\\\\": {\\\\\"dtype\\\\\": \\\\\"float64\\\\\", '\n",
       "                              '\\\\\"shape\\\\\": [-1, 5702]}}]\", \"outputs\": '\n",
       "                              '\"[{\\\\\"type\\\\\": \\\\\"tensor\\\\\", \\\\\"tensor-spec\\\\\": '\n",
       "                              '{\\\\\"dtype\\\\\": \\\\\"float64\\\\\", \\\\\"shape\\\\\": '\n",
       "                              '[-1]}}]\", \"params\": null}, \"model_size_bytes\": '\n",
       "                              '4528759}]',\n",
       "  'mlflow.runName': 'monumental-jay-121',\n",
       "  'mlflow.source.git.commit': 'ff26d1c0c0641534b5a2f27ea1e62cb443f1a7d3',\n",
       "  'mlflow.source.name': 'train.py',\n",
       "  'mlflow.source.type': 'LOCAL',\n",
       "  'mlflow.user': 'crab'}>, info=<RunInfo: artifact_uri='file:///C:/Users/crab/py2/mlops-zoomcamp/cohorts/2024/02-experiment-tracking/homework/mlruns/1/642077d23ed940df80096696dff66a7d/artifacts', end_time=1716561228412, experiment_id='1', lifecycle_stage='active', run_id='642077d23ed940df80096696dff66a7d', run_name='monumental-jay-121', run_uuid='642077d23ed940df80096696dff66a7d', start_time=1716561208069, status='FINISHED', user_id='crab'>, inputs=<RunInputs: dataset_inputs=[<DatasetInput: dataset=<Dataset: digest='7edda543', name='dataset', profile=('{\"features_shape\": [62574, 5702], \"features_size\": 356796948, '\n",
       "  '\"features_nbytes\": 2854375584}'), schema=('{\"mlflow_tensorspec\": {\"features\": \"[{\\\\\"type\\\\\": \\\\\"tensor\\\\\", '\n",
       "  '\\\\\"tensor-spec\\\\\": {\\\\\"dtype\\\\\": \\\\\"float64\\\\\", \\\\\"shape\\\\\": [-1, 5702]}}]\", '\n",
       "  '\"targets\": null}}'), source=('{\"tags\": {\"mlflow.user\": \"crab\", \"mlflow.source.name\": \"train.py\", '\n",
       "  '\"mlflow.source.type\": \"LOCAL\", \"mlflow.source.git.commit\": '\n",
       "  '\"ff26d1c0c0641534b5a2f27ea1e62cb443f1a7d3\"}}'), source_type='code'>, tags=[<InputTag: key='mlflow.data.context', value='eval'>]>]>>]"
      ]
     },
     "execution_count": 47,
     "metadata": {},
     "output_type": "execute_result"
    }
   ],
   "source": [
    "client.search_runs(experiment_ids=1)"
   ]
  },
  {
   "cell_type": "code",
   "execution_count": 48,
   "id": "94d10ce1-d45f-4c76-8a97-53edeeac139e",
   "metadata": {},
   "outputs": [],
   "source": [
    "run_id = \"50a15d1138c34be6a2fd613a086a2f88\"\n",
    "\n",
    "run = client.get_run(run_id=run_id)"
   ]
  },
  {
   "cell_type": "code",
   "execution_count": 49,
   "id": "e66c379d-4a5e-4248-b882-ae073eb31166",
   "metadata": {},
   "outputs": [
    {
     "data": {
      "text/plain": [
       "'2'"
      ]
     },
     "execution_count": 49,
     "metadata": {},
     "output_type": "execute_result"
    }
   ],
   "source": [
    "run.data.params.get('min_samples_split', None)"
   ]
  },
  {
   "cell_type": "markdown",
   "id": "9f4bd6e5-4608-4844-a466-c250cc228d4f",
   "metadata": {},
   "source": [
    "What is the value of the min_samples_split parameter:\n",
    "\n",
    "**2**\n"
   ]
  },
  {
   "cell_type": "markdown",
   "id": "11f7a333-b8c0-41d6-af30-83b933516b78",
   "metadata": {},
   "source": [
    "## Q4. Launch the tracking server locally\n",
    "Now we want to manage the entire lifecycle of our ML model. In this step, you'll need to launch a tracking server. This way we will also have access to the model registry.\n",
    "\n",
    "Your task is to:\n",
    "\n",
    "- launch the tracking server on your local machine,\n",
    "- select a SQLite db for the backend store and a folder called `artifacts` for the artifacts store.\n",
    "\n",
    "You should keep the tracking server running to work on the next two exercises that use the server.\n",
    "\n",
    "In addition to `backend-store-uri`, what else do you need to pass to properly configure the server?\n",
    " "
   ]
  },
  {
   "cell_type": "code",
   "execution_count": 51,
   "id": "855f4ebb-48f3-4ff1-943a-6c5a1cfadf4a",
   "metadata": {},
   "outputs": [
    {
     "name": "stdout",
     "output_type": "stream",
     "text": [
      "Usage: mlflow server [OPTIONS]\n",
      "\n",
      "  Run the MLflow tracking server.\n",
      "\n",
      "  The server listens on http://localhost:5000 by default and only accepts\n",
      "  connections from the local machine. To let the server accept connections\n",
      "  from other machines, you will need to pass ``--host 0.0.0.0`` to listen on\n",
      "  all network interfaces (or a specific interface address).\n",
      "\n",
      "Options:\n",
      "  --backend-store-uri PATH        URI to which to persist experiment and run\n",
      "                                  data. Acceptable URIs are SQLAlchemy-\n",
      "                                  compatible database connection strings (e.g.\n",
      "                                  'sqlite:///path/to/file.db') or local\n",
      "                                  filesystem URIs (e.g.\n",
      "                                  'file:///absolute/path/to/directory'). By\n",
      "                                  default, data will be logged to the ./mlruns\n",
      "                                  directory.\n",
      "  --registry-store-uri URI        URI to which to persist registered models.\n",
      "                                  Acceptable URIs are SQLAlchemy-compatible\n",
      "                                  database connection strings (e.g.\n",
      "                                  'sqlite:///path/to/file.db'). If not\n",
      "                                  specified, `backend-store-uri` is used.\n",
      "  --default-artifact-root URI     Directory in which to store artifacts for\n",
      "                                  any new experiments created. For tracking\n",
      "                                  server backends that rely on SQL, this\n",
      "                                  option is required in order to store\n",
      "                                  artifacts. Note that this flag does not\n",
      "                                  impact already-created experiments with any\n",
      "                                  previous configuration of an MLflow server\n",
      "                                  instance. By default, data will be logged to\n",
      "                                  the mlflow-artifacts:/ uri proxy if the\n",
      "                                  --serve-artifacts option is enabled.\n",
      "                                  Otherwise, the default location will be\n",
      "                                  ./mlruns.\n",
      "  --serve-artifacts / --no-serve-artifacts\n",
      "                                  Enables serving of artifact uploads,\n",
      "                                  downloads, and list requests by routing\n",
      "                                  these requests to the storage location that\n",
      "                                  is specified by '--artifacts-destination'\n",
      "                                  directly through a proxy. The default\n",
      "                                  location that these requests are served from\n",
      "                                  is a local './mlartifacts' directory which\n",
      "                                  can be overridden via the '--artifacts-\n",
      "                                  destination' argument. To disable artifact\n",
      "                                  serving, specify `--no-serve-artifacts`.\n",
      "                                  Default: True\n",
      "  --artifacts-only                If specified, configures the mlflow server\n",
      "                                  to be used only for proxied artifact\n",
      "                                  serving. With this mode enabled,\n",
      "                                  functionality of the mlflow tracking service\n",
      "                                  (e.g. run creation, metric logging, and\n",
      "                                  parameter logging) is disabled. The server\n",
      "                                  will only expose endpoints for uploading,\n",
      "                                  downloading, and listing artifacts. Default:\n",
      "                                  False\n",
      "  --artifacts-destination URI     The base artifact location from which to\n",
      "                                  resolve artifact upload/download/list\n",
      "                                  requests (e.g. 's3://my-bucket'). Defaults\n",
      "                                  to a local './mlartifacts' directory. This\n",
      "                                  option only applies when the tracking server\n",
      "                                  is configured to stream artifacts and the\n",
      "                                  experiment's artifact root location is http\n",
      "                                  or mlflow-artifacts URI.\n",
      "  -h, --host HOST                 The network address to listen on (default:\n",
      "                                  127.0.0.1). Use 0.0.0.0 to bind to all\n",
      "                                  addresses if you want to access the tracking\n",
      "                                  server from other machines.\n",
      "  -p, --port INTEGER              The port to listen on (default: 5000).\n",
      "  -w, --workers TEXT              Number of gunicorn worker processes to\n",
      "                                  handle requests (default: 1).\n",
      "  --static-prefix TEXT            A prefix which will be prepended to the path\n",
      "                                  of all static paths.\n",
      "  --gunicorn-opts TEXT            Additional command line options forwarded to\n",
      "                                  gunicorn processes.\n",
      "  --waitress-opts TEXT            Additional command line options for\n",
      "                                  waitress-serve.\n",
      "  --expose-prometheus TEXT        Path to the directory where metrics will be\n",
      "                                  stored. If the directory doesn't exist, it\n",
      "                                  will be created. Activate prometheus\n",
      "                                  exporter to expose metrics on /metrics\n",
      "                                  endpoint.\n",
      "  --app-name [basic-auth]         Application name to be used for the tracking\n",
      "                                  server. If not specified,\n",
      "                                  'mlflow.server:app' will be used.\n",
      "  --dev                           If enabled, run the server with debug\n",
      "                                  logging and auto-reload. Should only be used\n",
      "                                  for development purposes. Cannot be used\n",
      "                                  with '--gunicorn-opts'. Unsupported on\n",
      "                                  Windows.\n",
      "  --help                          Show this message and exit.\n"
     ]
    },
    {
     "name": "stderr",
     "output_type": "stream",
     "text": [
      "C:\\Users\\crab\\AppData\\Local\\Programs\\Python\\Python311\\Lib\\site-packages\\pydantic\\_internal\\_config.py:321: UserWarning: Valid config keys have changed in V2:\n",
      "* 'schema_extra' has been renamed to 'json_schema_extra'\n",
      "  warnings.warn(message, UserWarning)\n"
     ]
    }
   ],
   "source": [
    "!mlflow server --help"
   ]
  },
  {
   "cell_type": "markdown",
   "id": "84947b9c-630a-4b2b-965e-42297dfb6591",
   "metadata": {},
   "source": [
    "In addition to `backend-store-uri`, what else do you need to pass to properly configure the server?\n",
    "\n",
    "**--default-artifact-root**"
   ]
  },
  {
   "cell_type": "markdown",
   "id": "bc6504c1-9c22-4630-8186-46a6f4a99369",
   "metadata": {},
   "source": [
    "## Q5. Tune model hyperparameters\n",
    "Now let's try to reduce the validation error by tuning the hyperparameters of the `RandomForestRegressor` using `hyperopt`. We have prepared the script `hpo.py` for this exercise.\n",
    "\n",
    "Your task is to modify the script `hpo.py` and make sure that the validation RMSE is logged to the tracking server for each run of the hyperparameter optimization (you will need to add a few lines of code to the `objective` function) and run the script without passing any parameters.\n",
    "\n",
    "After that, open UI and explore the runs from the experiment called `random-forest-hyperopt` to answer the question below.\n",
    "\n",
    "Note: Don't use autologging for this exercise.\n",
    "\n",
    "The idea is to just log the information that you need to answer the question below, including:\n",
    "\n",
    "the list of hyperparameters that are passed to the `objective` function during the optimization,\n",
    "the RMSE obtained on the validation set (February 2023 data)."
   ]
  },
  {
   "cell_type": "code",
   "execution_count": 52,
   "id": "7972eb69-08ee-470e-a982-3f352e8166f5",
   "metadata": {},
   "outputs": [
    {
     "name": "stdout",
     "output_type": "stream",
     "text": [
      "\n",
      "  0%|          | 0/15 [00:00<?, ?trial/s, best loss=?]\n",
      "  7%|▋         | 1/15 [00:08<01:57,  8.36s/trial, best loss: 5.370086069268862]\n",
      " 13%|█▎        | 2/15 [00:08<00:48,  3.69s/trial, best loss: 5.370086069268862]\n",
      " 20%|██        | 3/15 [00:09<00:27,  2.29s/trial, best loss: 5.370086069268862]\n",
      " 27%|██▋       | 4/15 [00:14<00:38,  3.52s/trial, best loss: 5.357490752366866]\n",
      " 33%|███▎      | 5/15 [00:17<00:32,  3.23s/trial, best loss: 5.357490752366866]\n",
      " 40%|████      | 6/15 [00:26<00:47,  5.29s/trial, best loss: 5.354695072530291]\n",
      " 47%|████▋     | 7/15 [00:36<00:52,  6.57s/trial, best loss: 5.354695072530291]\n",
      " 53%|█████▎    | 8/15 [00:37<00:33,  4.82s/trial, best loss: 5.354695072530291]\n",
      " 60%|██████    | 9/15 [00:42<00:30,  5.11s/trial, best loss: 5.354695072530291]\n",
      " 67%|██████▋   | 10/15 [00:47<00:24,  4.97s/trial, best loss: 5.354695072530291]\n",
      " 73%|███████▎  | 11/15 [00:51<00:18,  4.54s/trial, best loss: 5.335419588556921]\n",
      " 80%|████████  | 12/15 [00:54<00:12,  4.06s/trial, best loss: 5.335419588556921]\n",
      " 87%|████████▋ | 13/15 [00:55<00:06,  3.14s/trial, best loss: 5.335419588556921]\n",
      " 93%|█████████▎| 14/15 [00:58<00:03,  3.20s/trial, best loss: 5.335419588556921]\n",
      "100%|██████████| 15/15 [01:03<00:00,  3.82s/trial, best loss: 5.335419588556921]\n",
      "100%|██████████| 15/15 [01:03<00:00,  4.24s/trial, best loss: 5.335419588556921]\n"
     ]
    },
    {
     "name": "stderr",
     "output_type": "stream",
     "text": [
      "C:\\Users\\crab\\AppData\\Local\\Programs\\Python\\Python311\\Lib\\site-packages\\sklearn\\metrics\\_regression.py:483: FutureWarning: 'squared' is deprecated in version 1.4 and will be removed in 1.6. To calculate the root mean squared error, use the function'root_mean_squared_error'.\n",
      "  warnings.warn(\n",
      "\n",
      "C:\\Users\\crab\\AppData\\Local\\Programs\\Python\\Python311\\Lib\\site-packages\\sklearn\\metrics\\_regression.py:483: FutureWarning: 'squared' is deprecated in version 1.4 and will be removed in 1.6. To calculate the root mean squared error, use the function'root_mean_squared_error'.\n",
      "  warnings.warn(\n",
      "\n",
      "C:\\Users\\crab\\AppData\\Local\\Programs\\Python\\Python311\\Lib\\site-packages\\sklearn\\metrics\\_regression.py:483: FutureWarning: 'squared' is deprecated in version 1.4 and will be removed in 1.6. To calculate the root mean squared error, use the function'root_mean_squared_error'.\n",
      "  warnings.warn(\n",
      "\n",
      "C:\\Users\\crab\\AppData\\Local\\Programs\\Python\\Python311\\Lib\\site-packages\\sklearn\\metrics\\_regression.py:483: FutureWarning: 'squared' is deprecated in version 1.4 and will be removed in 1.6. To calculate the root mean squared error, use the function'root_mean_squared_error'.\n",
      "  warnings.warn(\n",
      "\n",
      "C:\\Users\\crab\\AppData\\Local\\Programs\\Python\\Python311\\Lib\\site-packages\\sklearn\\metrics\\_regression.py:483: FutureWarning: 'squared' is deprecated in version 1.4 and will be removed in 1.6. To calculate the root mean squared error, use the function'root_mean_squared_error'.\n",
      "  warnings.warn(\n",
      "\n",
      "C:\\Users\\crab\\AppData\\Local\\Programs\\Python\\Python311\\Lib\\site-packages\\sklearn\\metrics\\_regression.py:483: FutureWarning: 'squared' is deprecated in version 1.4 and will be removed in 1.6. To calculate the root mean squared error, use the function'root_mean_squared_error'.\n",
      "  warnings.warn(\n",
      "\n",
      "C:\\Users\\crab\\AppData\\Local\\Programs\\Python\\Python311\\Lib\\site-packages\\sklearn\\metrics\\_regression.py:483: FutureWarning: 'squared' is deprecated in version 1.4 and will be removed in 1.6. To calculate the root mean squared error, use the function'root_mean_squared_error'.\n",
      "  warnings.warn(\n",
      "\n",
      "C:\\Users\\crab\\AppData\\Local\\Programs\\Python\\Python311\\Lib\\site-packages\\sklearn\\metrics\\_regression.py:483: FutureWarning: 'squared' is deprecated in version 1.4 and will be removed in 1.6. To calculate the root mean squared error, use the function'root_mean_squared_error'.\n",
      "  warnings.warn(\n",
      "\n",
      "C:\\Users\\crab\\AppData\\Local\\Programs\\Python\\Python311\\Lib\\site-packages\\sklearn\\metrics\\_regression.py:483: FutureWarning: 'squared' is deprecated in version 1.4 and will be removed in 1.6. To calculate the root mean squared error, use the function'root_mean_squared_error'.\n",
      "  warnings.warn(\n",
      "\n",
      "C:\\Users\\crab\\AppData\\Local\\Programs\\Python\\Python311\\Lib\\site-packages\\sklearn\\metrics\\_regression.py:483: FutureWarning: 'squared' is deprecated in version 1.4 and will be removed in 1.6. To calculate the root mean squared error, use the function'root_mean_squared_error'.\n",
      "  warnings.warn(\n",
      "\n",
      "C:\\Users\\crab\\AppData\\Local\\Programs\\Python\\Python311\\Lib\\site-packages\\sklearn\\metrics\\_regression.py:483: FutureWarning: 'squared' is deprecated in version 1.4 and will be removed in 1.6. To calculate the root mean squared error, use the function'root_mean_squared_error'.\n",
      "  warnings.warn(\n",
      "\n",
      "C:\\Users\\crab\\AppData\\Local\\Programs\\Python\\Python311\\Lib\\site-packages\\sklearn\\metrics\\_regression.py:483: FutureWarning: 'squared' is deprecated in version 1.4 and will be removed in 1.6. To calculate the root mean squared error, use the function'root_mean_squared_error'.\n",
      "  warnings.warn(\n",
      "\n",
      "C:\\Users\\crab\\AppData\\Local\\Programs\\Python\\Python311\\Lib\\site-packages\\sklearn\\metrics\\_regression.py:483: FutureWarning: 'squared' is deprecated in version 1.4 and will be removed in 1.6. To calculate the root mean squared error, use the function'root_mean_squared_error'.\n",
      "  warnings.warn(\n",
      "\n",
      "C:\\Users\\crab\\AppData\\Local\\Programs\\Python\\Python311\\Lib\\site-packages\\sklearn\\metrics\\_regression.py:483: FutureWarning: 'squared' is deprecated in version 1.4 and will be removed in 1.6. To calculate the root mean squared error, use the function'root_mean_squared_error'.\n",
      "  warnings.warn(\n",
      "\n",
      "C:\\Users\\crab\\AppData\\Local\\Programs\\Python\\Python311\\Lib\\site-packages\\sklearn\\metrics\\_regression.py:483: FutureWarning: 'squared' is deprecated in version 1.4 and will be removed in 1.6. To calculate the root mean squared error, use the function'root_mean_squared_error'.\n",
      "  warnings.warn(\n",
      "\n"
     ]
    }
   ],
   "source": [
    "!python hpo.py"
   ]
  },
  {
   "cell_type": "code",
   "execution_count": 53,
   "id": "98c35648-48aa-4452-97c6-bf25ededdfab",
   "metadata": {},
   "outputs": [
    {
     "data": {
      "text/plain": [
       "[<Experiment: artifact_location='mlflow-artifacts:/3', creation_time=1716563281836, experiment_id='3', last_update_time=1716563281836, lifecycle_stage='active', name='random-forest-best-models', tags={}>,\n",
       " <Experiment: artifact_location='mlflow-artifacts:/2', creation_time=1716561755926, experiment_id='2', last_update_time=1716561755926, lifecycle_stage='active', name='random-forest-hyperopt', tags={}>,\n",
       " <Experiment: artifact_location='file:///C:/Users/crab/py2/mlops-zoomcamp/cohorts/2024/02-experiment-tracking/homework/mlruns/1', creation_time=1716561207595, experiment_id='1', last_update_time=1716561207595, lifecycle_stage='active', name='homework2', tags={}>,\n",
       " <Experiment: artifact_location='file:///C:/Users/crab/py2/mlops-zoomcamp/cohorts/2024/02-experiment-tracking/homework/mlruns/0', creation_time=1716561207590, experiment_id='0', last_update_time=1716561207590, lifecycle_stage='active', name='Default', tags={}>]"
      ]
     },
     "execution_count": 53,
     "metadata": {},
     "output_type": "execute_result"
    }
   ],
   "source": [
    "client.search_experiments()"
   ]
  },
  {
   "cell_type": "code",
   "execution_count": 69,
   "id": "2f4798ca-3f8f-4fde-ac1c-100101953f3d",
   "metadata": {},
   "outputs": [
    {
     "data": {
      "text/plain": [
       "[<Run: data=<RunData: metrics={'rmse': 5.335419588556921}, params={'max_depth': '19',\n",
       "  'min_samples_leaf': '2',\n",
       "  'min_samples_split': '2',\n",
       "  'n_estimators': '11',\n",
       "  'random_state': '42'}, tags={'mlflow.runName': 'upset-toad-980',\n",
       "  'mlflow.source.git.commit': 'ff26d1c0c0641534b5a2f27ea1e62cb443f1a7d3',\n",
       "  'mlflow.source.name': 'hpo.py',\n",
       "  'mlflow.source.type': 'LOCAL',\n",
       "  'mlflow.user': 'crab',\n",
       "  'model': 'random forest'}>, info=<RunInfo: artifact_uri='mlflow-artifacts:/2/c2cbe3ae97d74888b921e53801d24312/artifacts', end_time=1716568475676, experiment_id='2', lifecycle_stage='active', run_id='c2cbe3ae97d74888b921e53801d24312', run_name='upset-toad-980', run_uuid='c2cbe3ae97d74888b921e53801d24312', start_time=1716568472134, status='FINISHED', user_id='crab'>, inputs=<RunInputs: dataset_inputs=[]>>]"
      ]
     },
     "execution_count": 69,
     "metadata": {},
     "output_type": "execute_result"
    }
   ],
   "source": [
    "ordered_run = client.search_runs(\n",
    "    experiment_ids=2,\n",
    "    filter_string='',\n",
    "    max_results=1,\n",
    "    order_by=['metrics.rmse ASC'])\n",
    "\n",
    "ordered_run"
   ]
  },
  {
   "cell_type": "code",
   "execution_count": 64,
   "id": "03cb29e0-eb0d-42af-a3f0-7e54569cf16e",
   "metadata": {},
   "outputs": [],
   "source": [
    "ordered_run_id = 'c2cbe3ae97d74888b921e53801d24312'\n",
    "\n",
    "order_run = client.get_run(run_id=ordered_run_id)"
   ]
  },
  {
   "cell_type": "code",
   "execution_count": 68,
   "id": "24ef4ccc-7a0e-41eb-99be-ad0dcb8ff00e",
   "metadata": {},
   "outputs": [
    {
     "data": {
      "text/plain": [
       "5.335419588556921"
      ]
     },
     "execution_count": 68,
     "metadata": {},
     "output_type": "execute_result"
    }
   ],
   "source": [
    "order_run.data.metrics['rmse']"
   ]
  },
  {
   "cell_type": "markdown",
   "id": "94faba89-88de-4936-aad8-fe9ba4ab10da",
   "metadata": {},
   "source": [
    "What's the best validation RMSE that you got?\n",
    "\n",
    "**5.335**"
   ]
  },
  {
   "cell_type": "markdown",
   "id": "4b036d78-00f8-4a0c-ae98-1db8955114da",
   "metadata": {},
   "source": [
    "## Q6. Promote the best model to the model registry\n",
    "The results from the hyperparameter optimization are quite good. So, we can assume that we are ready to test some of these models in production. In this exercise, you'll promote the best model to the model registry. We have prepared a script called `register_model.py`, which will check the results from the previous step and select the top 5 runs. After that, it will calculate the RMSE of those models on the test set (March 2023 data) and save the results to a new experiment called `random-forest-best-models`.\n",
    "\n",
    "Your task is to update the script `register_model.py` so that it selects the model with the lowest RMSE on the test set and registers it to the model registry.\n",
    "\n",
    "Tip 1: you can use the method `search_runs` from the `MlflowClient` to get the model with the lowest RMSE,\n",
    "\n",
    "Tip 2: to register the model you can use the method `mlflow.register_model` and you will need to pass the right `model_uri` in the form of a string that looks like this: `\"runs:/<RUN_ID>/model\"`, and the name of the model (make sure to choose a good one!)."
   ]
  },
  {
   "cell_type": "code",
   "execution_count": 88,
   "id": "c3ee06a0-eec5-4e3c-9586-43938b76b5ab",
   "metadata": {},
   "outputs": [
    {
     "name": "stderr",
     "output_type": "stream",
     "text": [
      "2024/05/25 01:20:00 WARNING mlflow.sklearn: Failed to log training dataset information to MLflow Tracking. Reason: 'numpy.ndarray' object has no attribute 'toarray'\n",
      "2024/05/25 01:20:10 WARNING mlflow.utils.autologging_utils: MLflow autologging encountered a warning: \"C:\\Users\\crab\\AppData\\Local\\Programs\\Python\\Python311\\Lib\\site-packages\\_distutils_hack\\__init__.py:33: UserWarning: Setuptools is replacing distutils.\"\n",
      "C:\\Users\\crab\\AppData\\Local\\Programs\\Python\\Python311\\Lib\\site-packages\\sklearn\\metrics\\_regression.py:483: FutureWarning: 'squared' is deprecated in version 1.4 and will be removed in 1.6. To calculate the root mean squared error, use the function'root_mean_squared_error'.\n",
      "  warnings.warn(\n",
      "C:\\Users\\crab\\AppData\\Local\\Programs\\Python\\Python311\\Lib\\site-packages\\sklearn\\metrics\\_regression.py:483: FutureWarning: 'squared' is deprecated in version 1.4 and will be removed in 1.6. To calculate the root mean squared error, use the function'root_mean_squared_error'.\n",
      "  warnings.warn(\n",
      "2024/05/25 01:20:13 WARNING mlflow.sklearn: Failed to log training dataset information to MLflow Tracking. Reason: 'numpy.ndarray' object has no attribute 'toarray'\n",
      "C:\\Users\\crab\\AppData\\Local\\Programs\\Python\\Python311\\Lib\\site-packages\\sklearn\\metrics\\_regression.py:483: FutureWarning: 'squared' is deprecated in version 1.4 and will be removed in 1.6. To calculate the root mean squared error, use the function'root_mean_squared_error'.\n",
      "  warnings.warn(\n",
      "C:\\Users\\crab\\AppData\\Local\\Programs\\Python\\Python311\\Lib\\site-packages\\sklearn\\metrics\\_regression.py:483: FutureWarning: 'squared' is deprecated in version 1.4 and will be removed in 1.6. To calculate the root mean squared error, use the function'root_mean_squared_error'.\n",
      "  warnings.warn(\n",
      "2024/05/25 01:20:23 WARNING mlflow.sklearn: Failed to log training dataset information to MLflow Tracking. Reason: 'numpy.ndarray' object has no attribute 'toarray'\n",
      "C:\\Users\\crab\\AppData\\Local\\Programs\\Python\\Python311\\Lib\\site-packages\\sklearn\\metrics\\_regression.py:483: FutureWarning: 'squared' is deprecated in version 1.4 and will be removed in 1.6. To calculate the root mean squared error, use the function'root_mean_squared_error'.\n",
      "  warnings.warn(\n",
      "C:\\Users\\crab\\AppData\\Local\\Programs\\Python\\Python311\\Lib\\site-packages\\sklearn\\metrics\\_regression.py:483: FutureWarning: 'squared' is deprecated in version 1.4 and will be removed in 1.6. To calculate the root mean squared error, use the function'root_mean_squared_error'.\n",
      "  warnings.warn(\n",
      "2024/05/25 01:20:39 WARNING mlflow.sklearn: Failed to log training dataset information to MLflow Tracking. Reason: 'numpy.ndarray' object has no attribute 'toarray'\n",
      "C:\\Users\\crab\\AppData\\Local\\Programs\\Python\\Python311\\Lib\\site-packages\\sklearn\\metrics\\_regression.py:483: FutureWarning: 'squared' is deprecated in version 1.4 and will be removed in 1.6. To calculate the root mean squared error, use the function'root_mean_squared_error'.\n",
      "  warnings.warn(\n",
      "C:\\Users\\crab\\AppData\\Local\\Programs\\Python\\Python311\\Lib\\site-packages\\sklearn\\metrics\\_regression.py:483: FutureWarning: 'squared' is deprecated in version 1.4 and will be removed in 1.6. To calculate the root mean squared error, use the function'root_mean_squared_error'.\n",
      "  warnings.warn(\n",
      "2024/05/25 01:20:55 WARNING mlflow.sklearn: Failed to log training dataset information to MLflow Tracking. Reason: 'numpy.ndarray' object has no attribute 'toarray'\n",
      "C:\\Users\\crab\\AppData\\Local\\Programs\\Python\\Python311\\Lib\\site-packages\\sklearn\\metrics\\_regression.py:483: FutureWarning: 'squared' is deprecated in version 1.4 and will be removed in 1.6. To calculate the root mean squared error, use the function'root_mean_squared_error'.\n",
      "  warnings.warn(\n",
      "C:\\Users\\crab\\AppData\\Local\\Programs\\Python\\Python311\\Lib\\site-packages\\sklearn\\metrics\\_regression.py:483: FutureWarning: 'squared' is deprecated in version 1.4 and will be removed in 1.6. To calculate the root mean squared error, use the function'root_mean_squared_error'.\n",
      "  warnings.warn(\n",
      "Registered model 'taxi-model' already exists. Creating a new version of this model...\n",
      "2024/05/25 01:21:07 INFO mlflow.store.model_registry.abstract_store: Waiting up to 300 seconds for model version to finish creation. Model name: taxi-model, version 2\n",
      "Created version '2' of model 'taxi-model'.\n"
     ]
    }
   ],
   "source": [
    "!python register_model.py"
   ]
  },
  {
   "cell_type": "code",
   "execution_count": 91,
   "id": "62a1a847-36aa-427f-8013-d3141f1f47d8",
   "metadata": {},
   "outputs": [],
   "source": [
    "v1_run_id = client.get_model_version(name = 'taxi-model', version =1).run_id\n",
    "run1 = client.get_run(run_id=v1_run_id)"
   ]
  },
  {
   "cell_type": "code",
   "execution_count": 92,
   "id": "c436fc47-5804-4876-9f6b-577db28dfe29",
   "metadata": {},
   "outputs": [
    {
     "name": "stdout",
     "output_type": "stream",
     "text": [
      "Version 1 Test RMSE: 5.592\n"
     ]
    }
   ],
   "source": [
    "print(f\"Version 1 Test RMSE: {(run1.data.metrics['test_rmse']):.3f}\")\n"
   ]
  },
  {
   "cell_type": "markdown",
   "id": "30d4dfd6-5866-4319-bea7-1da455678cfa",
   "metadata": {},
   "source": [
    "What is the test RMSE of the best model?\n",
    " \n",
    "5.567"
   ]
  },
  {
   "cell_type": "code",
   "execution_count": null,
   "id": "c44c5ab0-b39f-4555-99d5-96133fa0dfb8",
   "metadata": {},
   "outputs": [],
   "source": []
  }
 ],
 "metadata": {
  "kernelspec": {
   "display_name": "Python 3 (ipykernel)",
   "language": "python",
   "name": "python3"
  },
  "language_info": {
   "codemirror_mode": {
    "name": "ipython",
    "version": 3
   },
   "file_extension": ".py",
   "mimetype": "text/x-python",
   "name": "python",
   "nbconvert_exporter": "python",
   "pygments_lexer": "ipython3",
   "version": "3.11.8"
  }
 },
 "nbformat": 4,
 "nbformat_minor": 5
}
