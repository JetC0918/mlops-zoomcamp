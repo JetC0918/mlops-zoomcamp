{
 "cells": [
  {
   "cell_type": "markdown",
   "id": "63b9196a",
   "metadata": {},
   "source": [
    "## Q1. Install MLflow\n",
    "\n",
    "To get started with MLflow you'll need to install the MLflow Python package.\n",
    "\n",
    "For this we recommend creating a separate Python environment, for example, you can use conda environments, and then install the package there with pip or conda.\n",
    "\n",
    "Once you installed the package, run the command mlflow --version and check the output.\n",
    "\n",
    "What's the version that you have?"
   ]
  },
  {
   "cell_type": "code",
   "execution_count": 1,
   "id": "84d1dddb",
   "metadata": {},
   "outputs": [
    {
     "name": "stdout",
     "output_type": "stream",
     "text": [
      "mlflow, version 2.22.0\n"
     ]
    }
   ],
   "source": [
    "!mlflow --version"
   ]
  },
  {
   "cell_type": "markdown",
   "id": "578bf668",
   "metadata": {},
   "source": [
    "## Q2. Download and preprocess the data\n",
    "We'll use the Green Taxi Trip Records dataset to predict the duration of each trip.\n",
    "\n",
    "Download the data for January, February and March 2023 in parquet format from here.\n",
    "\n",
    "Use the script preprocess_data.py located in the folder homework to preprocess the data.\n",
    "\n",
    "The script will:\n",
    "\n",
    "- load the data from the folder <TAXI_DATA_FOLDER> (the folder where you have downloaded the data),\n",
    "- fit a DictVectorizer on the training set (January 2023 data),\n",
    "- save the preprocessed datasets and the DictVectorizer to disk.\n",
    "Your task is to download the datasets and then execute this command:\n",
    "\n",
    "```python preprocess_data.py --raw_data_path <TAXI_DATA_FOLDER> --dest_path ./output```\n",
    "\n",
    "Tip: go to 02-experiment-tracking/homework/ folder before executing the command and change the value of <TAXI_DATA_FOLDER> to the location where you saved the data.\n",
    "\n",
    "How many files were saved to OUTPUT_FOLDER?"
   ]
  },
  {
   "cell_type": "code",
   "execution_count": 2,
   "id": "783ede1f",
   "metadata": {},
   "outputs": [
    {
     "name": "stderr",
     "output_type": "stream",
     "text": [
      "--2025-05-23 21:13:59--  https://d37ci6vzurychx.cloudfront.net/trip-data/green_tripdata_2023-01.parquet\n",
      "Resolving d37ci6vzurychx.cloudfront.net (d37ci6vzurychx.cloudfront.net)... 3.164.82.197, 3.164.82.112, 3.164.82.160, ...\n",
      "Connecting to d37ci6vzurychx.cloudfront.net (d37ci6vzurychx.cloudfront.net)|3.164.82.197|:443... connected.\n",
      "HTTP request sent, awaiting response... 200 OK\n",
      "Length: 1427002 (1.4M) [binary/octet-stream]\n",
      "Saving to: './data/green_tripdata_2023-01.parquet.10'\n",
      "\n",
      "     0K .......... .......... .......... .......... ..........  3%  254K 5s\n",
      "    50K .......... .......... .......... .......... ..........  7%  532K 4s\n",
      "   100K .......... .......... .......... .......... .......... 10%  496K 3s\n",
      "   150K .......... .......... .......... .......... .......... 14%  644K 3s\n",
      "   200K .......... .......... .......... .......... .......... 17% 1.68M 2s\n",
      "   250K .......... .......... .......... .......... .......... 21%  933K 2s\n",
      "   300K .......... .......... .......... .......... .......... 25% 1.54M 2s\n",
      "   350K .......... .......... .......... .......... .......... 28% 1.61M 2s\n",
      "   400K .......... .......... .......... .......... .......... 32% 1.23M 1s\n",
      "   450K .......... .......... .......... .......... .......... 35% 1.94M 1s\n",
      "   500K .......... .......... .......... .......... .......... 39%  903K 1s\n",
      "   550K .......... .......... .......... .......... .......... 43% 3.30M 1s\n",
      "   600K .......... .......... .......... .......... .......... 46% 1.87M 1s\n",
      "   650K .......... .......... .......... .......... .......... 50% 1.25M 1s\n",
      "   700K .......... .......... .......... .......... .......... 53% 2.76M 1s\n",
      "   750K .......... .......... .......... .......... .......... 57%  802K 1s\n",
      "   800K .......... .......... .......... .......... .......... 60% 1.16M 1s\n",
      "   850K .......... .......... .......... .......... .......... 64% 2.15M 1s\n",
      "   900K .......... .......... .......... .......... .......... 68% 62.2M 0s\n",
      "   950K .......... .......... .......... .......... .......... 71% 2.93M 0s\n",
      "  1000K .......... .......... .......... .......... .......... 75% 2.69M 0s\n",
      "  1050K .......... .......... .......... .......... .......... 78% 27.4M 0s\n",
      "  1100K .......... .......... .......... .......... .......... 82% 2.10M 0s\n",
      "  1150K .......... .......... .......... .......... .......... 86% 2.62M 0s\n",
      "  1200K .......... .......... .......... .......... .......... 89% 59.3M 0s\n",
      "  1250K .......... .......... .......... .......... .......... 93% 2.67M 0s\n",
      "  1300K .......... .......... .......... .......... .......... 96% 55.7M 0s\n",
      "  1350K .......... .......... .......... .......... ...       100% 4.02M=1.1s\n",
      "\n",
      "2025-05-23 21:14:01 (1.27 MB/s) - './data/green_tripdata_2023-01.parquet.10' saved [1427002/1427002]\n",
      "\n",
      "--2025-05-23 21:14:02--  https://d37ci6vzurychx.cloudfront.net/trip-data/green_tripdata_2023-02.parquet\n",
      "Resolving d37ci6vzurychx.cloudfront.net (d37ci6vzurychx.cloudfront.net)... 3.164.82.197, 3.164.82.112, 3.164.82.160, ...\n",
      "Connecting to d37ci6vzurychx.cloudfront.net (d37ci6vzurychx.cloudfront.net)|3.164.82.197|:443... connected.\n",
      "HTTP request sent, awaiting response... 200 OK\n",
      "Length: 1533740 (1.5M) [binary/octet-stream]\n",
      "Saving to: './data/green_tripdata_2023-02.parquet.10'\n",
      "\n",
      "     0K .......... .......... .......... .......... ..........  3%  251K 6s\n",
      "    50K .......... .......... .......... .......... ..........  6%  515K 4s\n",
      "   100K .......... .......... .......... .......... .......... 10%  554K 3s\n",
      "   150K .......... .......... .......... .......... .......... 13% 1.79M 3s\n",
      "   200K .......... .......... .......... .......... .......... 16% 1.04M 2s\n",
      "   250K .......... .......... .......... .......... .......... 20% 1.11M 2s\n",
      "   300K .......... .......... .......... .......... .......... 23% 1.13M 2s\n",
      "   350K .......... .......... .......... .......... .......... 26% 1.27M 2s\n",
      "   400K .......... .......... .......... .......... .......... 30%  801K 2s\n",
      "   450K .......... .......... .......... .......... .......... 33% 32.6M 1s\n",
      "   500K .......... .......... .......... .......... .......... 36% 3.85M 1s\n",
      "   550K .......... .......... .......... .......... .......... 40% 1.15M 1s\n",
      "   600K .......... .......... .......... .......... .......... 43% 1.30M 1s\n",
      "   650K .......... .......... .......... .......... .......... 46%  874K 1s\n",
      "   700K .......... .......... .......... .......... .......... 50% 5.39M 1s\n",
      "   750K .......... .......... .......... .......... .......... 53% 2.16M 1s\n",
      "   800K .......... .......... .......... .......... .......... 56% 1.80M 1s\n",
      "   850K .......... .......... .......... .......... .......... 60% 1.09M 1s\n",
      "   900K .......... .......... .......... .......... .......... 63%  721K 1s\n",
      "   950K .......... .......... .......... .......... .......... 66% 45.0M 0s\n",
      "  1000K .......... .......... .......... .......... .......... 70% 3.69M 0s\n",
      "  1050K .......... .......... .......... .......... .......... 73% 4.50M 0s\n",
      "  1100K .......... .......... .......... .......... .......... 76% 3.98M 0s\n",
      "  1150K .......... .......... .......... .......... .......... 80% 3.99M 0s\n",
      "  1200K .......... .......... .......... .......... .......... 83% 2.04M 0s\n",
      "  1250K .......... .......... .......... .......... .......... 86% 14.0M 0s\n",
      "  1300K .......... .......... .......... .......... .......... 90% 62.8M 0s\n",
      "  1350K .......... .......... .......... .......... .......... 93% 1.32M 0s\n",
      "  1400K .......... .......... .......... .......... .......... 96% 1.23M 0s\n",
      "  1450K .......... .......... .......... .......... .......   100% 1.48M=1.2s\n",
      "\n",
      "2025-05-23 21:14:03 (1.26 MB/s) - './data/green_tripdata_2023-02.parquet.10' saved [1533740/1533740]\n",
      "\n",
      "--2025-05-23 21:14:04--  https://d37ci6vzurychx.cloudfront.net/trip-data/green_tripdata_2023-03.parquet\n",
      "Resolving d37ci6vzurychx.cloudfront.net (d37ci6vzurychx.cloudfront.net)... 3.164.82.197, 3.164.82.112, 3.164.82.160, ...\n",
      "Connecting to d37ci6vzurychx.cloudfront.net (d37ci6vzurychx.cloudfront.net)|3.164.82.197|:443... connected.\n",
      "HTTP request sent, awaiting response... 200 OK\n",
      "Length: 1730999 (1.7M) [binary/octet-stream]\n",
      "Saving to: './data/green_tripdata_2023-03.parquet.10'\n",
      "\n",
      "     0K .......... .......... .......... .......... ..........  2%  246K 7s\n",
      "    50K .......... .......... .......... .......... ..........  5% 1.14M 4s\n",
      "   100K .......... .......... .......... .......... ..........  8%  398K 4s\n",
      "   150K .......... .......... .......... .......... .......... 11%  754K 3s\n",
      "   200K .......... .......... .......... .......... .......... 14% 1.07M 3s\n",
      "   250K .......... .......... .......... .......... .......... 17% 1.13M 2s\n",
      "   300K .......... .......... .......... .......... .......... 20% 2.02M 2s\n",
      "   350K .......... .......... .......... .......... .......... 23% 1.48M 2s\n",
      "   400K .......... .......... .......... .......... .......... 26% 1.19M 2s\n",
      "   450K .......... .......... .......... .......... .......... 29% 1.05M 2s\n",
      "   500K .......... .......... .......... .......... .......... 32%  947K 2s\n",
      "   550K .......... .......... .......... .......... .......... 35% 30.0M 1s\n",
      "   600K .......... .......... .......... .......... .......... 38% 9.65M 1s\n",
      "   650K .......... .......... .......... .......... .......... 41% 1.17M 1s\n",
      "   700K .......... .......... .......... .......... .......... 44%  982K 1s\n",
      "   750K .......... .......... .......... .......... .......... 47% 1.33M 1s\n",
      "   800K .......... .......... .......... .......... .......... 50% 1.73M 1s\n",
      "   850K .......... .......... .......... .......... .......... 53% 5.56M 1s\n",
      "   900K .......... .......... .......... .......... .......... 56% 1.58M 1s\n",
      "   950K .......... .......... .......... .......... .......... 59% 38.6M 1s\n",
      "  1000K .......... .......... .......... .......... .......... 62% 55.2M 1s\n",
      "  1050K .......... .......... .......... .......... .......... 65% 4.95M 1s\n",
      "  1100K .......... .......... .......... .......... .......... 68% 4.49M 0s\n",
      "  1150K .......... .......... .......... .......... .......... 70% 6.27M 0s\n",
      "  1200K .......... .......... .......... .......... .......... 73% 4.29M 0s\n",
      "  1250K .......... .......... .......... .......... .......... 76% 7.60M 0s\n",
      "  1300K .......... .......... .......... .......... .......... 79% 7.50M 0s\n",
      "  1350K .......... .......... .......... .......... .......... 82% 4.18M 0s\n",
      "  1400K .......... .......... .......... .......... .......... 85% 1.97M 0s\n",
      "  1450K .......... .......... .......... .......... .......... 88% 54.5M 0s\n",
      "  1500K .......... .......... .......... .......... .......... 91% 4.52M 0s\n",
      "  1550K .......... .......... .......... .......... .......... 94% 2.58M 0s\n",
      "  1600K .......... .......... .......... .......... .......... 97% 8.52M 0s\n",
      "  1650K .......... .......... .......... ..........           100% 1.40M=1.1s\n",
      "\n",
      "2025-05-23 21:14:05 (1.52 MB/s) - './data/green_tripdata_2023-03.parquet.10' saved [1730999/1730999]\n",
      "\n"
     ]
    }
   ],
   "source": [
    "# Get the dataset\n",
    "\n",
    "!wget https://d37ci6vzurychx.cloudfront.net/trip-data/green_tripdata_2023-01.parquet -P ./data\n",
    "!wget https://d37ci6vzurychx.cloudfront.net/trip-data/green_tripdata_2023-02.parquet -P ./data\n",
    "!wget https://d37ci6vzurychx.cloudfront.net/trip-data/green_tripdata_2023-03.parquet -P ./data"
   ]
  },
  {
   "cell_type": "code",
   "execution_count": 3,
   "id": "1f546688",
   "metadata": {},
   "outputs": [],
   "source": [
    "!python preprocess_data.py --raw_data_path ./data --dest_path ./output"
   ]
  },
  {
   "cell_type": "code",
   "execution_count": 4,
   "id": "33c38af5",
   "metadata": {},
   "outputs": [
    {
     "data": {
      "text/plain": [
       "['dv.pkl', 'test.pkl', 'train.pkl', 'val.pkl']"
      ]
     },
     "execution_count": 4,
     "metadata": {},
     "output_type": "execute_result"
    }
   ],
   "source": [
    "import os\n",
    "os.listdir(\"./output\")"
   ]
  },
  {
   "cell_type": "markdown",
   "id": "aa570001",
   "metadata": {},
   "source": [
    "**4 Files** in output folder"
   ]
  },
  {
   "cell_type": "markdown",
   "id": "e18c6ad5",
   "metadata": {},
   "source": [
    "## Q3. Train a model with autolog\n",
    "We will train a RandomForestRegressor (from Scikit-Learn) on the taxi dataset.\n",
    "\n",
    "We have prepared the training script train.py for this exercise, which can be also found in the folder homework.\n",
    "\n",
    "The script will:\n",
    "\n",
    "- load the datasets produced by the previous step,\n",
    "- train the model on the training set,\n",
    "- calculate the RMSE score on the validation set.\n",
    "Your task is to modify the script to enable autologging with MLflow, execute the script and then launch the MLflow UI to check that the experiment run was properly tracked.\n",
    "\n",
    "Tip 1: don't forget to wrap the training code with a with mlflow.start_run(): statement as we showed in the videos.\n",
    "\n",
    "Tip 2: don't modify the hyperparameters of the model to make sure that the training will finish quickly."
   ]
  },
  {
   "cell_type": "code",
   "execution_count": 5,
   "id": "4e47a3da",
   "metadata": {},
   "outputs": [
    {
     "name": "stdout",
     "output_type": "stream",
     "text": [
      "🏃 View run bemused-boar-500 at: http://127.0.0.1:5000/#/experiments/510162088933463138/runs/21f111fc61a54176896d1d5b68e7c08b\n",
      "🧪 View experiment at: http://127.0.0.1:5000/#/experiments/510162088933463138\n"
     ]
    }
   ],
   "source": [
    "!python train.py"
   ]
  },
  {
   "cell_type": "code",
   "execution_count": 6,
   "id": "d341b0ec",
   "metadata": {},
   "outputs": [],
   "source": [
    "from mlflow.tracking import MlflowClient\n",
    "\n",
    "TRACKING_URI =  \"http://127.0.0.1:5000\"\n",
    "\n",
    "client = MlflowClient(tracking_uri=TRACKING_URI)"
   ]
  },
  {
   "cell_type": "code",
   "execution_count": 7,
   "id": "c3f69d7a",
   "metadata": {},
   "outputs": [
    {
     "data": {
      "text/plain": [
       "[<Experiment: artifact_location='mlflow-artifacts:/510162088933463138', creation_time=1748003263023, experiment_id='510162088933463138', last_update_time=1748003263023, lifecycle_stage='active', name='homework2', tags={}>]"
      ]
     },
     "execution_count": 7,
     "metadata": {},
     "output_type": "execute_result"
    }
   ],
   "source": [
    "client.search_experiments()"
   ]
  },
  {
   "cell_type": "code",
   "execution_count": 8,
   "id": "7a87106e",
   "metadata": {},
   "outputs": [
    {
     "data": {
      "text/plain": [
       "[<Run: data=<RunData: metrics={'training_mean_absolute_error': 3.4244701942312354,\n",
       "  'training_mean_squared_error': 27.083054499499358,\n",
       "  'training_r2_score': 0.6673983775155525,\n",
       "  'training_root_mean_squared_error': 5.204138209108148,\n",
       "  'training_score': 0.6673983775155525}, params={'bootstrap': 'True',\n",
       "  'ccp_alpha': '0.0',\n",
       "  'criterion': 'squared_error',\n",
       "  'max_depth': '10',\n",
       "  'max_features': '1.0',\n",
       "  'max_leaf_nodes': 'None',\n",
       "  'max_samples': 'None',\n",
       "  'min_impurity_decrease': '0.0',\n",
       "  'min_samples_leaf': '1',\n",
       "  'min_samples_split': '2',\n",
       "  'min_weight_fraction_leaf': '0.0',\n",
       "  'monotonic_cst': 'None',\n",
       "  'n_estimators': '100',\n",
       "  'n_jobs': 'None',\n",
       "  'oob_score': 'False',\n",
       "  'random_state': '0',\n",
       "  'verbose': '0',\n",
       "  'warm_start': 'False'}, tags={'estimator_class': 'sklearn.ensemble._forest.RandomForestRegressor',\n",
       "  'estimator_name': 'RandomForestRegressor',\n",
       "  'mlflow.log-model.history': '[{\"run_id\": \"21f111fc61a54176896d1d5b68e7c08b\", '\n",
       "                              '\"artifact_path\": \"model\", \"utc_time_created\": '\n",
       "                              '\"2025-05-23 13:15:40.824351\", \"model_uuid\": '\n",
       "                              '\"19add3abbae74f80b937363449276145\", \"flavors\": '\n",
       "                              '{\"python_function\": {\"model_path\": \"model.pkl\", '\n",
       "                              '\"predict_fn\": \"predict\", \"loader_module\": '\n",
       "                              '\"mlflow.sklearn\", \"python_version\": \"3.12.9\", '\n",
       "                              '\"env\": {\"conda\": \"conda.yaml\", \"virtualenv\": '\n",
       "                              '\"python_env.yaml\"}}, \"sklearn\": '\n",
       "                              '{\"pickled_model\": \"model.pkl\", '\n",
       "                              '\"sklearn_version\": \"1.6.1\", '\n",
       "                              '\"serialization_format\": \"cloudpickle\", \"code\": '\n",
       "                              'null}}}]',\n",
       "  'mlflow.runName': 'bemused-boar-500',\n",
       "  'mlflow.source.git.commit': '1258b40e09df1bea816b0ec8a58c2e0db01bfa41',\n",
       "  'mlflow.source.name': 'train.py',\n",
       "  'mlflow.source.type': 'LOCAL',\n",
       "  'mlflow.user': 'crab'}>, info=<RunInfo: artifact_uri='mlflow-artifacts:/510162088933463138/21f111fc61a54176896d1d5b68e7c08b/artifacts', end_time=1748006179806, experiment_id='510162088933463138', lifecycle_stage='active', run_id='21f111fc61a54176896d1d5b68e7c08b', run_name='bemused-boar-500', run_uuid='21f111fc61a54176896d1d5b68e7c08b', start_time=1748006082988, status='FINISHED', user_id='crab'>, inputs=<RunInputs: dataset_inputs=[<DatasetInput: dataset=<Dataset: digest='7edda543', name='dataset', profile=('{\"features_shape\": [62574, 5702], \"features_size\": 356796948, '\n",
       "  '\"features_nbytes\": 2854375584}'), schema=('{\"mlflow_tensorspec\": {\"features\": \"[{\\\\\"type\\\\\": \\\\\"tensor\\\\\", '\n",
       "  '\\\\\"tensor-spec\\\\\": {\\\\\"dtype\\\\\": \\\\\"float64\\\\\", \\\\\"shape\\\\\": [-1, 5702]}}]\", '\n",
       "  '\"targets\": null}}'), source=('{\"tags\": {\"mlflow.user\": \"crab\", \"mlflow.source.name\": \"train.py\", '\n",
       "  '\"mlflow.source.type\": \"LOCAL\", \"mlflow.source.git.commit\": '\n",
       "  '\"1258b40e09df1bea816b0ec8a58c2e0db01bfa41\"}}'), source_type='code'>, tags=[<InputTag: key='mlflow.data.context', value='eval'>]>,\n",
       "  <DatasetInput: dataset=<Dataset: digest='acc5c667', name='dataset', profile=('{\"features_shape\": [65946, 5702], \"features_size\": 376024092, '\n",
       "  '\"features_nbytes\": 3008192736, \"targets_shape\": [65946], \"targets_size\": '\n",
       "  '65946, \"targets_nbytes\": 527568}'), schema=('{\"mlflow_tensorspec\": {\"features\": \"[{\\\\\"type\\\\\": \\\\\"tensor\\\\\", '\n",
       "  '\\\\\"tensor-spec\\\\\": {\\\\\"dtype\\\\\": \\\\\"float64\\\\\", \\\\\"shape\\\\\": [-1, 5702]}}]\", '\n",
       "  '\"targets\": \"[{\\\\\"type\\\\\": \\\\\"tensor\\\\\", \\\\\"tensor-spec\\\\\": {\\\\\"dtype\\\\\": '\n",
       "  '\\\\\"float64\\\\\", \\\\\"shape\\\\\": [-1]}}]\"}}'), source=('{\"tags\": {\"mlflow.user\": \"crab\", \"mlflow.source.name\": \"train.py\", '\n",
       "  '\"mlflow.source.type\": \"LOCAL\", \"mlflow.source.git.commit\": '\n",
       "  '\"1258b40e09df1bea816b0ec8a58c2e0db01bfa41\"}}'), source_type='code'>, tags=[<InputTag: key='mlflow.data.context', value='train'>]>]>>,\n",
       " <Run: data=<RunData: metrics={'training_mean_absolute_error': 3.4244701942312354,\n",
       "  'training_mean_squared_error': 27.083054499499358,\n",
       "  'training_r2_score': 0.6673983775155525,\n",
       "  'training_root_mean_squared_error': 5.204138209108148,\n",
       "  'training_score': 0.6673983775155525}, params={'bootstrap': 'True',\n",
       "  'ccp_alpha': '0.0',\n",
       "  'criterion': 'squared_error',\n",
       "  'max_depth': '10',\n",
       "  'max_features': '1.0',\n",
       "  'max_leaf_nodes': 'None',\n",
       "  'max_samples': 'None',\n",
       "  'min_impurity_decrease': '0.0',\n",
       "  'min_samples_leaf': '1',\n",
       "  'min_samples_split': '2',\n",
       "  'min_weight_fraction_leaf': '0.0',\n",
       "  'monotonic_cst': 'None',\n",
       "  'n_estimators': '100',\n",
       "  'n_jobs': 'None',\n",
       "  'oob_score': 'False',\n",
       "  'random_state': '0',\n",
       "  'verbose': '0',\n",
       "  'warm_start': 'False'}, tags={'estimator_class': 'sklearn.ensemble._forest.RandomForestRegressor',\n",
       "  'estimator_name': 'RandomForestRegressor',\n",
       "  'mlflow.log-model.history': '[{\"run_id\": \"0d915bd9a5714c14b5fbb9278312a7b1\", '\n",
       "                              '\"artifact_path\": \"model\", \"utc_time_created\": '\n",
       "                              '\"2025-05-23 12:51:00.123134\", \"model_uuid\": '\n",
       "                              '\"b60f8e4cf7fe4a268bee40a9f8a0143c\", \"flavors\": '\n",
       "                              '{\"python_function\": {\"model_path\": \"model.pkl\", '\n",
       "                              '\"predict_fn\": \"predict\", \"loader_module\": '\n",
       "                              '\"mlflow.sklearn\", \"python_version\": \"3.12.9\", '\n",
       "                              '\"env\": {\"conda\": \"conda.yaml\", \"virtualenv\": '\n",
       "                              '\"python_env.yaml\"}}, \"sklearn\": '\n",
       "                              '{\"pickled_model\": \"model.pkl\", '\n",
       "                              '\"sklearn_version\": \"1.6.1\", '\n",
       "                              '\"serialization_format\": \"cloudpickle\", \"code\": '\n",
       "                              'null}}}]',\n",
       "  'mlflow.runName': 'mysterious-owl-808',\n",
       "  'mlflow.source.git.commit': '1258b40e09df1bea816b0ec8a58c2e0db01bfa41',\n",
       "  'mlflow.source.name': 'train.py',\n",
       "  'mlflow.source.type': 'LOCAL',\n",
       "  'mlflow.user': 'crab'}>, info=<RunInfo: artifact_uri='mlflow-artifacts:/510162088933463138/0d915bd9a5714c14b5fbb9278312a7b1/artifacts', end_time=1748004700306, experiment_id='510162088933463138', lifecycle_stage='active', run_id='0d915bd9a5714c14b5fbb9278312a7b1', run_name='mysterious-owl-808', run_uuid='0d915bd9a5714c14b5fbb9278312a7b1', start_time=1748004599088, status='FINISHED', user_id='crab'>, inputs=<RunInputs: dataset_inputs=[<DatasetInput: dataset=<Dataset: digest='7edda543', name='dataset', profile=('{\"features_shape\": [62574, 5702], \"features_size\": 356796948, '\n",
       "  '\"features_nbytes\": 2854375584}'), schema=('{\"mlflow_tensorspec\": {\"features\": \"[{\\\\\"type\\\\\": \\\\\"tensor\\\\\", '\n",
       "  '\\\\\"tensor-spec\\\\\": {\\\\\"dtype\\\\\": \\\\\"float64\\\\\", \\\\\"shape\\\\\": [-1, 5702]}}]\", '\n",
       "  '\"targets\": null}}'), source=('{\"tags\": {\"mlflow.user\": \"crab\", \"mlflow.source.name\": \"train.py\", '\n",
       "  '\"mlflow.source.type\": \"LOCAL\", \"mlflow.source.git.commit\": '\n",
       "  '\"1258b40e09df1bea816b0ec8a58c2e0db01bfa41\"}}'), source_type='code'>, tags=[<InputTag: key='mlflow.data.context', value='eval'>]>,\n",
       "  <DatasetInput: dataset=<Dataset: digest='acc5c667', name='dataset', profile=('{\"features_shape\": [65946, 5702], \"features_size\": 376024092, '\n",
       "  '\"features_nbytes\": 3008192736, \"targets_shape\": [65946], \"targets_size\": '\n",
       "  '65946, \"targets_nbytes\": 527568}'), schema=('{\"mlflow_tensorspec\": {\"features\": \"[{\\\\\"type\\\\\": \\\\\"tensor\\\\\", '\n",
       "  '\\\\\"tensor-spec\\\\\": {\\\\\"dtype\\\\\": \\\\\"float64\\\\\", \\\\\"shape\\\\\": [-1, 5702]}}]\", '\n",
       "  '\"targets\": \"[{\\\\\"type\\\\\": \\\\\"tensor\\\\\", \\\\\"tensor-spec\\\\\": {\\\\\"dtype\\\\\": '\n",
       "  '\\\\\"float64\\\\\", \\\\\"shape\\\\\": [-1]}}]\"}}'), source=('{\"tags\": {\"mlflow.user\": \"crab\", \"mlflow.source.name\": \"train.py\", '\n",
       "  '\"mlflow.source.type\": \"LOCAL\", \"mlflow.source.git.commit\": '\n",
       "  '\"1258b40e09df1bea816b0ec8a58c2e0db01bfa41\"}}'), source_type='code'>, tags=[<InputTag: key='mlflow.data.context', value='train'>]>]>>]"
      ]
     },
     "execution_count": 8,
     "metadata": {},
     "output_type": "execute_result"
    }
   ],
   "source": [
    "client.search_runs(experiment_ids=510162088933463138)"
   ]
  },
  {
   "cell_type": "code",
   "execution_count": 9,
   "id": "4615d175",
   "metadata": {},
   "outputs": [],
   "source": [
    "run_id = \"0d915bd9a5714c14b5fbb9278312a7b1\"\n",
    "\n",
    "run = client.get_run(run_id=run_id)"
   ]
  },
  {
   "cell_type": "code",
   "execution_count": 10,
   "id": "af66d05d",
   "metadata": {},
   "outputs": [
    {
     "data": {
      "text/plain": [
       "'2'"
      ]
     },
     "execution_count": 10,
     "metadata": {},
     "output_type": "execute_result"
    }
   ],
   "source": [
    "run.data.params.get('min_samples_split', None)"
   ]
  },
  {
   "cell_type": "markdown",
   "id": "06ead0bf",
   "metadata": {},
   "source": [
    "## Q4. Launch the tracking server locally\n",
    "Now we want to manage the entire lifecycle of our ML model. In this step, you'll need to launch a tracking server. This way we will also have access to the model registry.\n",
    "\n",
    "Your task is to:\n",
    "\n",
    "- launch the tracking server on your local machine,\n",
    "- select a SQLite db for the backend store and a folder called `artifacts` for the artifacts store.\n",
    "\n",
    "You should keep the tracking server running to work on the next two exercises that use the server.\n",
    "\n",
    "In addition to `backend-store-uri`, what else do you need to pass to properly configure the server?\n",
    " "
   ]
  },
  {
   "cell_type": "code",
   "execution_count": 11,
   "id": "6b1db14f",
   "metadata": {},
   "outputs": [
    {
     "name": "stdout",
     "output_type": "stream",
     "text": [
      "Usage: mlflow server [OPTIONS]\n",
      "\n",
      "  Run the MLflow tracking server.\n",
      "\n",
      "  The server listens on http://localhost:5000 by default and only accepts\n",
      "  connections from the local machine. To let the server accept connections\n",
      "  from other machines, you will need to pass ``--host 0.0.0.0`` to listen on\n",
      "  all network interfaces (or a specific interface address).\n",
      "\n",
      "Options:\n",
      "  --backend-store-uri PATH        URI to which to persist experiment and run\n",
      "                                  data. Acceptable URIs are SQLAlchemy-\n",
      "                                  compatible database connection strings (e.g.\n",
      "                                  'sqlite:///path/to/file.db') or local\n",
      "                                  filesystem URIs (e.g.\n",
      "                                  'file:///absolute/path/to/directory'). By\n",
      "                                  default, data will be logged to the ./mlruns\n",
      "                                  directory.\n",
      "  --registry-store-uri URI        URI to which to persist registered models.\n",
      "                                  Acceptable URIs are SQLAlchemy-compatible\n",
      "                                  database connection strings (e.g.\n",
      "                                  'sqlite:///path/to/file.db'). If not\n",
      "                                  specified, `backend-store-uri` is used.\n",
      "  --default-artifact-root URI     Directory in which to store artifacts for\n",
      "                                  any new experiments created. For tracking\n",
      "                                  server backends that rely on SQL, this\n",
      "                                  option is required in order to store\n",
      "                                  artifacts. Note that this flag does not\n",
      "                                  impact already-created experiments with any\n",
      "                                  previous configuration of an MLflow server\n",
      "                                  instance. By default, data will be logged to\n",
      "                                  the mlflow-artifacts:/ uri proxy if the\n",
      "                                  --serve-artifacts option is enabled.\n",
      "                                  Otherwise, the default location will be\n",
      "                                  ./mlruns.\n",
      "  --serve-artifacts / --no-serve-artifacts\n",
      "                                  Enables serving of artifact uploads,\n",
      "                                  downloads, and list requests by routing\n",
      "                                  these requests to the storage location that\n",
      "                                  is specified by '--artifacts-destination'\n",
      "                                  directly through a proxy. The default\n",
      "                                  location that these requests are served from\n",
      "                                  is a local './mlartifacts' directory which\n",
      "                                  can be overridden via the '--artifacts-\n",
      "                                  destination' argument. To disable artifact\n",
      "                                  serving, specify `--no-serve-artifacts`.\n",
      "                                  Default: True\n",
      "  --artifacts-only                If specified, configures the mlflow server\n",
      "                                  to be used only for proxied artifact\n",
      "                                  serving. With this mode enabled,\n",
      "                                  functionality of the mlflow tracking service\n",
      "                                  (e.g. run creation, metric logging, and\n",
      "                                  parameter logging) is disabled. The server\n",
      "                                  will only expose endpoints for uploading,\n",
      "                                  downloading, and listing artifacts. Default:\n",
      "                                  False\n",
      "  --artifacts-destination URI     The base artifact location from which to\n",
      "                                  resolve artifact upload/download/list\n",
      "                                  requests (e.g. 's3://my-bucket'). Defaults\n",
      "                                  to a local './mlartifacts' directory. This\n",
      "                                  option only applies when the tracking server\n",
      "                                  is configured to stream artifacts and the\n",
      "                                  experiment's artifact root location is http\n",
      "                                  or mlflow-artifacts URI.\n",
      "  -h, --host HOST                 The network address to listen on (default:\n",
      "                                  127.0.0.1). Use 0.0.0.0 to bind to all\n",
      "                                  addresses if you want to access the tracking\n",
      "                                  server from other machines.\n",
      "  -p, --port INTEGER              The port to listen on (default: 5000).\n",
      "  -w, --workers TEXT              Number of gunicorn worker processes to\n",
      "                                  handle requests (default: 4).\n",
      "  --static-prefix TEXT            A prefix which will be prepended to the path\n",
      "                                  of all static paths.\n",
      "  --gunicorn-opts TEXT            Additional command line options forwarded to\n",
      "                                  gunicorn processes.\n",
      "  --waitress-opts TEXT            Additional command line options for\n",
      "                                  waitress-serve.\n",
      "  --expose-prometheus TEXT        Path to the directory where metrics will be\n",
      "                                  stored. If the directory doesn't exist, it\n",
      "                                  will be created. Activate prometheus\n",
      "                                  exporter to expose metrics on /metrics\n",
      "                                  endpoint.\n",
      "  --app-name [basic-auth]         Application name to be used for the tracking\n",
      "                                  server. If not specified,\n",
      "                                  'mlflow.server:app' will be used.\n",
      "  --dev                           If enabled, run the server with debug\n",
      "                                  logging and auto-reload. Should only be used\n",
      "                                  for development purposes. Cannot be used\n",
      "                                  with '--gunicorn-opts'. Unsupported on\n",
      "                                  Windows.\n",
      "  --help                          Show this message and exit.\n"
     ]
    }
   ],
   "source": [
    "!mlflow server --help"
   ]
  },
  {
   "cell_type": "markdown",
   "id": "a4498265",
   "metadata": {},
   "source": [
    " --default-artifact-root"
   ]
  },
  {
   "cell_type": "markdown",
   "id": "55ce3e32",
   "metadata": {},
   "source": [
    "## Q5. Tune model hyperparameters\n",
    "Now let's try to reduce the validation error by tuning the hyperparameters of the `RandomForestRegressor` using `hyperopt`. We have prepared the script `hpo.py` for this exercise.\n",
    "\n",
    "Your task is to modify the script `hpo.py` and make sure that the validation RMSE is logged to the tracking server for each run of the hyperparameter optimization (you will need to add a few lines of code to the `objective` function) and run the script without passing any parameters.\n",
    "\n",
    "After that, open UI and explore the runs from the experiment called `random-forest-hyperopt` to answer the question below.\n",
    "\n",
    "Note: Don't use autologging for this exercise.\n",
    "\n",
    "The idea is to just log the information that you need to answer the question below, including:\n",
    "\n",
    "the list of hyperparameters that are passed to the `objective` function during the optimization,\n",
    "the RMSE obtained on the validation set (February 2023 data)."
   ]
  },
  {
   "cell_type": "code",
   "execution_count": 13,
   "id": "12306107",
   "metadata": {},
   "outputs": [
    {
     "name": "stdout",
     "output_type": "stream",
     "text": [
      "\n",
      "  0%|          | 0/15 [00:00<?, ?trial/s, best loss=?]\n",
      "                                                      \n",
      "🏃 View run overjoyed-squid-808 at: http://127.0.0.1:5000/#/experiments/668922372659723857/runs/4bfaf4be02b7465e8ea8096a3ccc590c\n",
      "\n",
      "\n",
      "  0%|          | 0/15 [00:33<?, ?trial/s, best loss=?]\n",
      "                                                      \n",
      "🧪 View experiment at: http://127.0.0.1:5000/#/experiments/668922372659723857\n",
      "\n",
      "\n",
      "  0%|          | 0/15 [00:33<?, ?trial/s, best loss=?]\n",
      "  7%|▋         | 1/15 [00:33<07:54, 33.86s/trial, best loss: 5.370086069268862]\n",
      "                                                                               \n",
      "🏃 View run invincible-ant-547 at: http://127.0.0.1:5000/#/experiments/668922372659723857/runs/2c566f6a42ca45408b2465c0a9b2c734\n",
      "\n",
      "\n",
      "  7%|▋         | 1/15 [00:35<07:54, 33.86s/trial, best loss: 5.370086069268862]\n",
      "                                                                               \n",
      "🧪 View experiment at: http://127.0.0.1:5000/#/experiments/668922372659723857\n",
      "\n",
      "\n",
      "  7%|▋         | 1/15 [00:35<07:54, 33.86s/trial, best loss: 5.370086069268862]\n",
      " 13%|█▎        | 2/15 [00:35<03:16, 15.11s/trial, best loss: 5.370086069268862]\n",
      "                                                                               \n",
      "🏃 View run omniscient-crab-538 at: http://127.0.0.1:5000/#/experiments/668922372659723857/runs/51e2ccdafce54d199c30808aef0ea166\n",
      "\n",
      "\n",
      " 13%|█▎        | 2/15 [00:38<03:16, 15.11s/trial, best loss: 5.370086069268862]\n",
      "                                                                               \n",
      "🧪 View experiment at: http://127.0.0.1:5000/#/experiments/668922372659723857\n",
      "\n",
      "\n",
      " 13%|█▎        | 2/15 [00:38<03:16, 15.11s/trial, best loss: 5.370086069268862]\n",
      " 20%|██        | 3/15 [00:38<01:53,  9.49s/trial, best loss: 5.370086069268862]\n",
      "                                                                               \n",
      "🏃 View run luminous-sheep-960 at: http://127.0.0.1:5000/#/experiments/668922372659723857/runs/da6b2ba7610f4300a202d4ba933ae50b\n",
      "\n",
      "\n",
      " 20%|██        | 3/15 [01:01<01:53,  9.49s/trial, best loss: 5.370086069268862]\n",
      "                                                                               \n",
      "🧪 View experiment at: http://127.0.0.1:5000/#/experiments/668922372659723857\n",
      "\n",
      "\n",
      " 20%|██        | 3/15 [01:01<01:53,  9.49s/trial, best loss: 5.370086069268862]\n",
      " 27%|██▋       | 4/15 [01:01<02:42, 14.75s/trial, best loss: 5.357490752366866]\n",
      "                                                                               \n",
      "🏃 View run indecisive-moth-888 at: http://127.0.0.1:5000/#/experiments/668922372659723857/runs/7be3631d5b344ba5a2ab4896a7cf9725\n",
      "\n",
      "\n",
      " 27%|██▋       | 4/15 [01:12<02:42, 14.75s/trial, best loss: 5.357490752366866]\n",
      "                                                                               \n",
      "🧪 View experiment at: http://127.0.0.1:5000/#/experiments/668922372659723857\n",
      "\n",
      "\n",
      " 27%|██▋       | 4/15 [01:12<02:42, 14.75s/trial, best loss: 5.357490752366866]\n",
      " 33%|███▎      | 5/15 [01:12<02:15, 13.55s/trial, best loss: 5.357490752366866]\n",
      "                                                                               \n",
      "🏃 View run polite-roo-688 at: http://127.0.0.1:5000/#/experiments/668922372659723857/runs/67036d51d271434abd15f7bce0319176\n",
      "\n",
      "\n",
      " 33%|███▎      | 5/15 [01:51<02:15, 13.55s/trial, best loss: 5.357490752366866]\n",
      "                                                                               \n",
      "🧪 View experiment at: http://127.0.0.1:5000/#/experiments/668922372659723857\n",
      "\n",
      "\n",
      " 33%|███▎      | 5/15 [01:51<02:15, 13.55s/trial, best loss: 5.357490752366866]\n",
      " 40%|████      | 6/15 [01:51<03:20, 22.24s/trial, best loss: 5.354695072530291]\n",
      "                                                                               \n",
      "🏃 View run nebulous-crane-998 at: http://127.0.0.1:5000/#/experiments/668922372659723857/runs/4a137fd6df5e4034a4f32cad3dc48a45\n",
      "\n",
      "\n",
      " 40%|████      | 6/15 [02:29<03:20, 22.24s/trial, best loss: 5.354695072530291]\n",
      "                                                                               \n",
      "🧪 View experiment at: http://127.0.0.1:5000/#/experiments/668922372659723857\n",
      "\n",
      "\n",
      " 40%|████      | 6/15 [02:29<03:20, 22.24s/trial, best loss: 5.354695072530291]\n",
      " 47%|████▋     | 7/15 [02:29<03:38, 27.36s/trial, best loss: 5.354695072530291]\n",
      "                                                                               \n",
      "🏃 View run gregarious-ape-516 at: http://127.0.0.1:5000/#/experiments/668922372659723857/runs/b48e8ae5f5d3420d961a64a7177830c0\n",
      "\n",
      "\n",
      " 47%|████▋     | 7/15 [02:34<03:38, 27.36s/trial, best loss: 5.354695072530291]\n",
      "                                                                               \n",
      "🧪 View experiment at: http://127.0.0.1:5000/#/experiments/668922372659723857\n",
      "\n",
      "\n",
      " 47%|████▋     | 7/15 [02:34<03:38, 27.36s/trial, best loss: 5.354695072530291]\n",
      " 53%|█████▎    | 8/15 [02:34<02:20, 20.02s/trial, best loss: 5.354695072530291]\n",
      "                                                                               \n",
      "🏃 View run spiffy-hog-905 at: http://127.0.0.1:5000/#/experiments/668922372659723857/runs/4b7247b338ee4603a95baf2a004a9ddf\n",
      "\n",
      "\n",
      " 53%|█████▎    | 8/15 [02:58<02:20, 20.02s/trial, best loss: 5.354695072530291]\n",
      "                                                                               \n",
      "🧪 View experiment at: http://127.0.0.1:5000/#/experiments/668922372659723857\n",
      "\n",
      "\n",
      " 53%|█████▎    | 8/15 [02:58<02:20, 20.02s/trial, best loss: 5.354695072530291]\n",
      " 60%|██████    | 9/15 [02:58<02:08, 21.42s/trial, best loss: 5.354695072530291]\n",
      "                                                                               \n",
      "🏃 View run luxuriant-wren-795 at: http://127.0.0.1:5000/#/experiments/668922372659723857/runs/cb5e771357d843e597f04bf6a94d3f10\n",
      "\n",
      "\n",
      " 60%|██████    | 9/15 [03:18<02:08, 21.42s/trial, best loss: 5.354695072530291]\n",
      "                                                                               \n",
      "🧪 View experiment at: http://127.0.0.1:5000/#/experiments/668922372659723857\n",
      "\n",
      "\n",
      " 60%|██████    | 9/15 [03:18<02:08, 21.42s/trial, best loss: 5.354695072530291]\n",
      " 67%|██████▋   | 10/15 [03:18<01:44, 20.89s/trial, best loss: 5.354695072530291]\n",
      "                                                                                \n",
      "🏃 View run upset-gnu-475 at: http://127.0.0.1:5000/#/experiments/668922372659723857/runs/a11548cecd92456d81f6ef388bc6e5f4\n",
      "\n",
      "\n",
      " 67%|██████▋   | 10/15 [03:33<01:44, 20.89s/trial, best loss: 5.354695072530291]\n",
      "                                                                                \n",
      "🧪 View experiment at: http://127.0.0.1:5000/#/experiments/668922372659723857\n",
      "\n",
      "\n",
      " 67%|██████▋   | 10/15 [03:33<01:44, 20.89s/trial, best loss: 5.354695072530291]\n",
      " 73%|███████▎  | 11/15 [03:33<01:16, 19.03s/trial, best loss: 5.335419588556921]\n",
      "                                                                                \n",
      "🏃 View run delightful-chimp-531 at: http://127.0.0.1:5000/#/experiments/668922372659723857/runs/8e69d7790a7c4ccfaa5400bcd9da15e0\n",
      "\n",
      "\n",
      " 73%|███████▎  | 11/15 [03:45<01:16, 19.03s/trial, best loss: 5.335419588556921]\n",
      "                                                                                \n",
      "🧪 View experiment at: http://127.0.0.1:5000/#/experiments/668922372659723857\n",
      "\n",
      "\n",
      " 73%|███████▎  | 11/15 [03:45<01:16, 19.03s/trial, best loss: 5.335419588556921]\n",
      " 80%|████████  | 12/15 [03:46<00:51, 17.14s/trial, best loss: 5.335419588556921]\n",
      "                                                                                \n",
      "🏃 View run unleashed-rat-542 at: http://127.0.0.1:5000/#/experiments/668922372659723857/runs/95a52ac2b46b403ba33c7560760167b8\n",
      "\n",
      "\n",
      " 80%|████████  | 12/15 [03:50<00:51, 17.14s/trial, best loss: 5.335419588556921]\n",
      "                                                                                \n",
      "🧪 View experiment at: http://127.0.0.1:5000/#/experiments/668922372659723857\n",
      "\n",
      "\n",
      " 80%|████████  | 12/15 [03:50<00:51, 17.14s/trial, best loss: 5.335419588556921]\n",
      " 87%|████████▋ | 13/15 [03:50<00:26, 13.32s/trial, best loss: 5.335419588556921]\n",
      "                                                                                \n",
      "🏃 View run marvelous-zebra-434 at: http://127.0.0.1:5000/#/experiments/668922372659723857/runs/7995bfd37bce49a8ab4cfbacd89ece45\n",
      "\n",
      "\n",
      " 87%|████████▋ | 13/15 [04:04<00:26, 13.32s/trial, best loss: 5.335419588556921]\n",
      "                                                                                \n",
      "🧪 View experiment at: http://127.0.0.1:5000/#/experiments/668922372659723857\n",
      "\n",
      "\n",
      " 87%|████████▋ | 13/15 [04:04<00:26, 13.32s/trial, best loss: 5.335419588556921]\n",
      " 93%|█████████▎| 14/15 [04:04<00:13, 13.64s/trial, best loss: 5.335419588556921]\n",
      "                                                                                \n",
      "🏃 View run illustrious-vole-506 at: http://127.0.0.1:5000/#/experiments/668922372659723857/runs/591c5032e4084361afe1d440c94dbeb1\n",
      "\n",
      "\n",
      " 93%|█████████▎| 14/15 [04:27<00:13, 13.64s/trial, best loss: 5.335419588556921]\n",
      "                                                                                \n",
      "🧪 View experiment at: http://127.0.0.1:5000/#/experiments/668922372659723857\n",
      "\n",
      "\n",
      " 93%|█████████▎| 14/15 [04:27<00:13, 13.64s/trial, best loss: 5.335419588556921]\n",
      "100%|██████████| 15/15 [04:27<00:00, 16.24s/trial, best loss: 5.335419588556921]\n",
      "100%|██████████| 15/15 [04:27<00:00, 17.81s/trial, best loss: 5.335419588556921]\n"
     ]
    }
   ],
   "source": [
    "!python hpo.py"
   ]
  },
  {
   "cell_type": "markdown",
   "id": "d7472c2f",
   "metadata": {},
   "source": [
    "\n",
    "5.335"
   ]
  },
  {
   "cell_type": "code",
   "execution_count": 14,
   "id": "c5458ec0",
   "metadata": {},
   "outputs": [
    {
     "data": {
      "text/plain": [
       "[<Experiment: artifact_location='mlflow-artifacts:/668922372659723857', creation_time=1748006219205, experiment_id='668922372659723857', last_update_time=1748006219205, lifecycle_stage='active', name='random-forest-hyperopt', tags={}>,\n",
       " <Experiment: artifact_location='mlflow-artifacts:/510162088933463138', creation_time=1748003263023, experiment_id='510162088933463138', last_update_time=1748003263023, lifecycle_stage='active', name='homework2', tags={}>]"
      ]
     },
     "execution_count": 14,
     "metadata": {},
     "output_type": "execute_result"
    }
   ],
   "source": [
    "client.search_experiments()"
   ]
  },
  {
   "cell_type": "code",
   "execution_count": 16,
   "id": "a5126601",
   "metadata": {},
   "outputs": [
    {
     "data": {
      "text/plain": [
       "[<Run: data=<RunData: metrics={'rmse': 5.335419588556921}, params={'max_depth': '19',\n",
       "  'min_samples_leaf': '2',\n",
       "  'min_samples_split': '2',\n",
       "  'n_estimators': '11',\n",
       "  'random_state': '42'}, tags={'mlflow.runName': 'upset-gnu-475',\n",
       "  'mlflow.source.git.commit': '1258b40e09df1bea816b0ec8a58c2e0db01bfa41',\n",
       "  'mlflow.source.name': 'hpo.py',\n",
       "  'mlflow.source.type': 'LOCAL',\n",
       "  'mlflow.user': 'crab'}>, info=<RunInfo: artifact_uri='mlflow-artifacts:/668922372659723857/a11548cecd92456d81f6ef388bc6e5f4/artifacts', end_time=1748006542695, experiment_id='668922372659723857', lifecycle_stage='active', run_id='a11548cecd92456d81f6ef388bc6e5f4', run_name='upset-gnu-475', run_uuid='a11548cecd92456d81f6ef388bc6e5f4', start_time=1748006528055, status='FINISHED', user_id='crab'>, inputs=<RunInputs: dataset_inputs=[]>>]"
      ]
     },
     "execution_count": 16,
     "metadata": {},
     "output_type": "execute_result"
    }
   ],
   "source": [
    "ordered_run = client.search_runs(\n",
    "    experiment_ids=668922372659723857,\n",
    "    filter_string='',\n",
    "    max_results=1,\n",
    "    order_by=['metrics.rmse ASC'])\n",
    "\n",
    "ordered_run"
   ]
  },
  {
   "cell_type": "code",
   "execution_count": 17,
   "id": "dda9e705",
   "metadata": {},
   "outputs": [],
   "source": [
    "ordered_run_id = 'a11548cecd92456d81f6ef388bc6e5f4'\n",
    "\n",
    "order_run = client.get_run(run_id=ordered_run_id)"
   ]
  },
  {
   "cell_type": "code",
   "execution_count": 18,
   "id": "6d66f93b",
   "metadata": {},
   "outputs": [
    {
     "data": {
      "text/plain": [
       "5.335419588556921"
      ]
     },
     "execution_count": 18,
     "metadata": {},
     "output_type": "execute_result"
    }
   ],
   "source": [
    "order_run.data.metrics['rmse']"
   ]
  },
  {
   "cell_type": "markdown",
   "id": "4fa4c736",
   "metadata": {},
   "source": [
    "What's the best validation RMSE that you got?\n",
    "\n",
    "**5.335**"
   ]
  },
  {
   "cell_type": "markdown",
   "id": "8a94491e",
   "metadata": {},
   "source": [
    "## Q6. Promote the best model to the model registry\n",
    "The results from the hyperparameter optimization are quite good. So, we can assume that we are ready to test some of these models in production. In this exercise, you'll promote the best model to the model registry. We have prepared a script called `register_model.py`, which will check the results from the previous step and select the top 5 runs. After that, it will calculate the RMSE of those models on the test set (March 2023 data) and save the results to a new experiment called `random-forest-best-models`.\n",
    "\n",
    "Your task is to update the script `register_model.py` so that it selects the model with the lowest RMSE on the test set and registers it to the model registry.\n",
    "\n",
    "Tip 1: you can use the method `search_runs` from the `MlflowClient` to get the model with the lowest RMSE,\n",
    "\n",
    "Tip 2: to register the model you can use the method `mlflow.register_model` and you will need to pass the right `model_uri` in the form of a string that looks like this: `\"runs:/<RUN_ID>/model\"`, and the name of the model (make sure to choose a good one!)."
   ]
  },
  {
   "cell_type": "code",
   "execution_count": 19,
   "id": "50d7faa8",
   "metadata": {},
   "outputs": [
    {
     "name": "stdout",
     "output_type": "stream",
     "text": [
      "🏃 View run popular-bat-213 at: http://127.0.0.1:5000/#/experiments/924568691926401311/runs/a070f661a9e54d6689ce3cd27487c7e0"
     ]
    },
    {
     "name": "stderr",
     "output_type": "stream",
     "text": [
      "2025/05/23 21:30:04 INFO mlflow.tracking.fluent: Experiment with name 'random-forest-best-models' does not exist. Creating a new experiment.\n"
     ]
    },
    {
     "name": "stdout",
     "output_type": "stream",
     "text": [
      "\n",
      "🧪 View experiment at: http://127.0.0.1:5000/#/experiments/924568691926401311\n",
      "🏃 View run mysterious-gnu-621 at: http://127.0.0.1:5000/#/experiments/924568691926401311/runs/26e37ec3f08f4f109caadd163dcd5b81\n",
      "🧪 View experiment at: http://127.0.0.1:5000/#/experiments/924568691926401311\n",
      "🏃 View run inquisitive-gull-279 at: http://127.0.0.1:5000/#/experiments/924568691926401311/runs/a58e8956e9d74e3da677ba1c5279e32b\n",
      "🧪 View experiment at: http://127.0.0.1:5000/#/experiments/924568691926401311\n",
      "🏃 View run gifted-calf-173 at: http://127.0.0.1:5000/#/experiments/924568691926401311/runs/99fc11dea25d4d5d9dcf451912d4b1f1\n",
      "🧪 View experiment at: http://127.0.0.1:5000/#/experiments/924568691926401311\n",
      "🏃 View run judicious-snake-651 at: http://127.0.0.1:5000/#/experiments/924568691926401311/runs/f149a26679d54c5aa9ac1f3d5d2df35c\n",
      "🧪 View experiment at: http://127.0.0.1:5000/#/experiments/924568691926401311\n"
     ]
    }
   ],
   "source": [
    "!python register_model.py"
   ]
  },
  {
   "cell_type": "code",
   "execution_count": 23,
   "id": "ee9aa9f9",
   "metadata": {},
   "outputs": [
    {
     "data": {
      "text/plain": [
       "[<Experiment: artifact_location='mlflow-artifacts:/924568691926401311', creation_time=1748007004266, experiment_id='924568691926401311', last_update_time=1748007004266, lifecycle_stage='active', name='random-forest-best-models', tags={}>,\n",
       " <Experiment: artifact_location='mlflow-artifacts:/668922372659723857', creation_time=1748006219205, experiment_id='668922372659723857', last_update_time=1748006219205, lifecycle_stage='active', name='random-forest-hyperopt', tags={}>,\n",
       " <Experiment: artifact_location='mlflow-artifacts:/510162088933463138', creation_time=1748003263023, experiment_id='510162088933463138', last_update_time=1748003263023, lifecycle_stage='active', name='homework2', tags={}>]"
      ]
     },
     "execution_count": 23,
     "metadata": {},
     "output_type": "execute_result"
    }
   ],
   "source": [
    "client.search_experiments()"
   ]
  },
  {
   "cell_type": "code",
   "execution_count": 24,
   "id": "fcfa5c14",
   "metadata": {},
   "outputs": [
    {
     "data": {
      "text/plain": [
       "[<Run: data=<RunData: metrics={'test_rmse': 5.5941605655803635,\n",
       "  'training_mean_absolute_error': 3.323916924052877,\n",
       "  'training_mean_squared_error': 26.08294493276463,\n",
       "  'training_r2_score': 0.6796805248104354,\n",
       "  'training_root_mean_squared_error': 5.107146456952711,\n",
       "  'training_score': 0.6796805248104354,\n",
       "  'val_rmse': 5.3633599989832135}, params={'bootstrap': 'True',\n",
       "  'ccp_alpha': '0.0',\n",
       "  'criterion': 'squared_error',\n",
       "  'max_depth': '14',\n",
       "  'max_features': '1.0',\n",
       "  'max_leaf_nodes': 'None',\n",
       "  'max_samples': 'None',\n",
       "  'min_impurity_decrease': '0.0',\n",
       "  'min_samples_leaf': '2',\n",
       "  'min_samples_split': '6',\n",
       "  'min_weight_fraction_leaf': '0.0',\n",
       "  'monotonic_cst': 'None',\n",
       "  'n_estimators': '23',\n",
       "  'n_jobs': 'None',\n",
       "  'oob_score': 'False',\n",
       "  'random_state': '42',\n",
       "  'verbose': '0',\n",
       "  'warm_start': 'False'}, tags={'estimator_class': 'sklearn.ensemble._forest.RandomForestRegressor',\n",
       "  'estimator_name': 'RandomForestRegressor',\n",
       "  'mlflow.log-model.history': '[{\"run_id\": \"f149a26679d54c5aa9ac1f3d5d2df35c\", '\n",
       "                              '\"artifact_path\": \"model\", \"utc_time_created\": '\n",
       "                              '\"2025-05-23 13:34:15.572983\", \"model_uuid\": '\n",
       "                              '\"d3923d7c6de94acb857769628533d492\", \"flavors\": '\n",
       "                              '{\"python_function\": {\"model_path\": \"model.pkl\", '\n",
       "                              '\"predict_fn\": \"predict\", \"loader_module\": '\n",
       "                              '\"mlflow.sklearn\", \"python_version\": \"3.12.9\", '\n",
       "                              '\"env\": {\"conda\": \"conda.yaml\", \"virtualenv\": '\n",
       "                              '\"python_env.yaml\"}}, \"sklearn\": '\n",
       "                              '{\"pickled_model\": \"model.pkl\", '\n",
       "                              '\"sklearn_version\": \"1.6.1\", '\n",
       "                              '\"serialization_format\": \"cloudpickle\", \"code\": '\n",
       "                              'null}}}]',\n",
       "  'mlflow.runName': 'judicious-snake-651',\n",
       "  'mlflow.source.git.commit': '1258b40e09df1bea816b0ec8a58c2e0db01bfa41',\n",
       "  'mlflow.source.name': 'register_model.py',\n",
       "  'mlflow.source.type': 'LOCAL',\n",
       "  'mlflow.user': 'crab'}>, info=<RunInfo: artifact_uri='mlflow-artifacts:/924568691926401311/f149a26679d54c5aa9ac1f3d5d2df35c/artifacts', end_time=1748007279473, experiment_id='924568691926401311', lifecycle_stage='active', run_id='f149a26679d54c5aa9ac1f3d5d2df35c', run_name='judicious-snake-651', run_uuid='f149a26679d54c5aa9ac1f3d5d2df35c', start_time=1748007231052, status='FINISHED', user_id='crab'>, inputs=<RunInputs: dataset_inputs=[<DatasetInput: dataset=<Dataset: digest='7edda543', name='dataset', profile=('{\"features_shape\": [62574, 5702], \"features_size\": 356796948, '\n",
       "  '\"features_nbytes\": 2854375584}'), schema=('{\"mlflow_tensorspec\": {\"features\": \"[{\\\\\"type\\\\\": \\\\\"tensor\\\\\", '\n",
       "  '\\\\\"tensor-spec\\\\\": {\\\\\"dtype\\\\\": \\\\\"float64\\\\\", \\\\\"shape\\\\\": [-1, 5702]}}]\", '\n",
       "  '\"targets\": null}}'), source=('{\"tags\": {\"mlflow.user\": \"crab\", \"mlflow.source.name\": \"register_model.py\", '\n",
       "  '\"mlflow.source.type\": \"LOCAL\", \"mlflow.source.git.commit\": '\n",
       "  '\"1258b40e09df1bea816b0ec8a58c2e0db01bfa41\"}}'), source_type='code'>, tags=[<InputTag: key='mlflow.data.context', value='eval'>]>,\n",
       "  <DatasetInput: dataset=<Dataset: digest='acc5c667', name='dataset', profile=('{\"features_shape\": [65946, 5702], \"features_size\": 376024092, '\n",
       "  '\"features_nbytes\": 3008192736, \"targets_shape\": [65946], \"targets_size\": '\n",
       "  '65946, \"targets_nbytes\": 527568}'), schema=('{\"mlflow_tensorspec\": {\"features\": \"[{\\\\\"type\\\\\": \\\\\"tensor\\\\\", '\n",
       "  '\\\\\"tensor-spec\\\\\": {\\\\\"dtype\\\\\": \\\\\"float64\\\\\", \\\\\"shape\\\\\": [-1, 5702]}}]\", '\n",
       "  '\"targets\": \"[{\\\\\"type\\\\\": \\\\\"tensor\\\\\", \\\\\"tensor-spec\\\\\": {\\\\\"dtype\\\\\": '\n",
       "  '\\\\\"float64\\\\\", \\\\\"shape\\\\\": [-1]}}]\"}}'), source=('{\"tags\": {\"mlflow.user\": \"crab\", \"mlflow.source.name\": \"register_model.py\", '\n",
       "  '\"mlflow.source.type\": \"LOCAL\", \"mlflow.source.git.commit\": '\n",
       "  '\"1258b40e09df1bea816b0ec8a58c2e0db01bfa41\"}}'), source_type='code'>, tags=[<InputTag: key='mlflow.data.context', value='train'>]>,\n",
       "  <DatasetInput: dataset=<Dataset: digest='5a2feb47', name='dataset', profile=('{\"features_shape\": [69392, 5702], \"features_size\": 395673184, '\n",
       "  '\"features_nbytes\": 3165385472}'), schema=('{\"mlflow_tensorspec\": {\"features\": \"[{\\\\\"type\\\\\": \\\\\"tensor\\\\\", '\n",
       "  '\\\\\"tensor-spec\\\\\": {\\\\\"dtype\\\\\": \\\\\"float64\\\\\", \\\\\"shape\\\\\": [-1, 5702]}}]\", '\n",
       "  '\"targets\": null}}'), source=('{\"tags\": {\"mlflow.user\": \"crab\", \"mlflow.source.name\": \"register_model.py\", '\n",
       "  '\"mlflow.source.type\": \"LOCAL\", \"mlflow.source.git.commit\": '\n",
       "  '\"1258b40e09df1bea816b0ec8a58c2e0db01bfa41\"}}'), source_type='code'>, tags=[<InputTag: key='mlflow.data.context', value='eval'>]>]>>]"
      ]
     },
     "execution_count": 24,
     "metadata": {},
     "output_type": "execute_result"
    }
   ],
   "source": [
    "ordered_run = client.search_runs(\n",
    "    experiment_ids=924568691926401311,\n",
    "    filter_string='',\n",
    "    max_results=1,\n",
    "    order_by=['metrics.rmse ASC'])\n",
    "\n",
    "ordered_run"
   ]
  },
  {
   "cell_type": "code",
   "execution_count": 25,
   "id": "e0d8988c",
   "metadata": {},
   "outputs": [],
   "source": [
    "ordered_run_id = 'f149a26679d54c5aa9ac1f3d5d2df35c'\n",
    "\n",
    "order_run = client.get_run(run_id=ordered_run_id)"
   ]
  },
  {
   "cell_type": "code",
   "execution_count": 27,
   "id": "12bd2726",
   "metadata": {},
   "outputs": [
    {
     "data": {
      "text/plain": [
       "5.5941605655803635"
      ]
     },
     "execution_count": 27,
     "metadata": {},
     "output_type": "execute_result"
    }
   ],
   "source": [
    "order_run.data.metrics['test_rmse']"
   ]
  },
  {
   "cell_type": "markdown",
   "id": "0f927bd4",
   "metadata": {},
   "source": [
    "\n",
    "5.567"
   ]
  },
  {
   "cell_type": "code",
   "execution_count": null,
   "id": "4fc07130",
   "metadata": {},
   "outputs": [],
   "source": []
  }
 ],
 "metadata": {
  "kernelspec": {
   "display_name": "Python 3 (ipykernel)",
   "language": "python",
   "name": "python3"
  },
  "language_info": {
   "codemirror_mode": {
    "name": "ipython",
    "version": 3
   },
   "file_extension": ".py",
   "mimetype": "text/x-python",
   "name": "python",
   "nbconvert_exporter": "python",
   "pygments_lexer": "ipython3",
   "version": "3.9.18"
  }
 },
 "nbformat": 4,
 "nbformat_minor": 5
}
